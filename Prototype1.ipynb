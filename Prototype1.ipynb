{
  "nbformat": 4,
  "nbformat_minor": 0,
  "metadata": {
    "colab": {
      "provenance": [],
      "collapsed_sections": [
        "knCTT7pZRUqd",
        "S2MIJE7cRbh9",
        "j1QhSJH834QO",
        "zXaafIO14BgW",
        "Ws7h4Rde699P",
        "690St4wsBOb9",
        "3VxEM3OWHH21",
        "CfWFkwefHWND",
        "yBpix1CeKPIs",
        "jkCWLTKhUozO"
      ],
      "authorship_tag": "ABX9TyOfewpNKMloZDPFlAVNP/4R",
      "include_colab_link": true
    },
    "kernelspec": {
      "name": "python3",
      "display_name": "Python 3"
    },
    "language_info": {
      "name": "python"
    }
  },
  "cells": [
    {
      "cell_type": "markdown",
      "metadata": {
        "id": "view-in-github",
        "colab_type": "text"
      },
      "source": [
        "<a href=\"https://colab.research.google.com/github/Mubashirr101/The_Automator/blob/main/Prototype1.ipynb\" target=\"_parent\"><img src=\"https://colab.research.google.com/assets/colab-badge.svg\" alt=\"Open In Colab\"/></a>"
      ]
    },
    {
      "cell_type": "markdown",
      "source": [
        "# The Automator's Initial Prototype Code for EDA"
      ],
      "metadata": {
        "id": "v5UT8lpqQp8G"
      }
    },
    {
      "cell_type": "markdown",
      "source": [
        "## Importing required libraries"
      ],
      "metadata": {
        "id": "knCTT7pZRUqd"
      }
    },
    {
      "cell_type": "code",
      "execution_count": null,
      "metadata": {
        "id": "vEo_LsGlMkz_"
      },
      "outputs": [],
      "source": [
        "import pandas as pd\n",
        "import numpy as np\n",
        "import matplotlib.pyplot as plt\n",
        "import seaborn as sns"
      ]
    },
    {
      "cell_type": "markdown",
      "source": [
        "## Reading CSV files from kaggle"
      ],
      "metadata": {
        "id": "S2MIJE7cRbh9"
      }
    },
    {
      "cell_type": "code",
      "source": [
        "#importing kaggle dataset\n",
        "import kagglehub\n",
        "path = kagglehub.dataset_download(\"themrityunjaypathak/pandas-practice-dataset\")\n",
        "data = pd.read_csv(f\"{path}/data.csv\")\n",
        "data.head()"
      ],
      "metadata": {
        "colab": {
          "base_uri": "https://localhost:8080/",
          "height": 261
        },
        "id": "WBs6ItG0NF4c",
        "outputId": "95b4d432-6a0c-4ee4-80fa-baec33727610"
      },
      "execution_count": null,
      "outputs": [
        {
          "output_type": "stream",
          "name": "stdout",
          "text": [
            "Downloading from https://www.kaggle.com/api/v1/datasets/download/themrityunjaypathak/pandas-practice-dataset?dataset_version_number=1...\n"
          ]
        },
        {
          "output_type": "stream",
          "name": "stderr",
          "text": [
            "100%|██████████| 493/493 [00:00<00:00, 412kB/s]"
          ]
        },
        {
          "output_type": "stream",
          "name": "stdout",
          "text": [
            "Extracting files...\n"
          ]
        },
        {
          "output_type": "stream",
          "name": "stderr",
          "text": [
            "\n"
          ]
        },
        {
          "output_type": "execute_result",
          "data": {
            "text/plain": [
              "   Duration          Date  Pulse  Maxpulse  Calories\n",
              "0        60  '2020/12/01'    110       130     409.1\n",
              "1        60  '2020/12/02'    117       145     479.0\n",
              "2        60  '2020/12/03'    103       135     340.0\n",
              "3        45  '2020/12/04'    109       175     282.4\n",
              "4        45  '2020/12/05'    117       148     406.0"
            ],
            "text/html": [
              "\n",
              "  <div id=\"df-697ce800-cbcb-4edb-a8d2-344a5633fefe\" class=\"colab-df-container\">\n",
              "    <div>\n",
              "<style scoped>\n",
              "    .dataframe tbody tr th:only-of-type {\n",
              "        vertical-align: middle;\n",
              "    }\n",
              "\n",
              "    .dataframe tbody tr th {\n",
              "        vertical-align: top;\n",
              "    }\n",
              "\n",
              "    .dataframe thead th {\n",
              "        text-align: right;\n",
              "    }\n",
              "</style>\n",
              "<table border=\"1\" class=\"dataframe\">\n",
              "  <thead>\n",
              "    <tr style=\"text-align: right;\">\n",
              "      <th></th>\n",
              "      <th>Duration</th>\n",
              "      <th>Date</th>\n",
              "      <th>Pulse</th>\n",
              "      <th>Maxpulse</th>\n",
              "      <th>Calories</th>\n",
              "    </tr>\n",
              "  </thead>\n",
              "  <tbody>\n",
              "    <tr>\n",
              "      <th>0</th>\n",
              "      <td>60</td>\n",
              "      <td>'2020/12/01'</td>\n",
              "      <td>110</td>\n",
              "      <td>130</td>\n",
              "      <td>409.1</td>\n",
              "    </tr>\n",
              "    <tr>\n",
              "      <th>1</th>\n",
              "      <td>60</td>\n",
              "      <td>'2020/12/02'</td>\n",
              "      <td>117</td>\n",
              "      <td>145</td>\n",
              "      <td>479.0</td>\n",
              "    </tr>\n",
              "    <tr>\n",
              "      <th>2</th>\n",
              "      <td>60</td>\n",
              "      <td>'2020/12/03'</td>\n",
              "      <td>103</td>\n",
              "      <td>135</td>\n",
              "      <td>340.0</td>\n",
              "    </tr>\n",
              "    <tr>\n",
              "      <th>3</th>\n",
              "      <td>45</td>\n",
              "      <td>'2020/12/04'</td>\n",
              "      <td>109</td>\n",
              "      <td>175</td>\n",
              "      <td>282.4</td>\n",
              "    </tr>\n",
              "    <tr>\n",
              "      <th>4</th>\n",
              "      <td>45</td>\n",
              "      <td>'2020/12/05'</td>\n",
              "      <td>117</td>\n",
              "      <td>148</td>\n",
              "      <td>406.0</td>\n",
              "    </tr>\n",
              "  </tbody>\n",
              "</table>\n",
              "</div>\n",
              "    <div class=\"colab-df-buttons\">\n",
              "\n",
              "  <div class=\"colab-df-container\">\n",
              "    <button class=\"colab-df-convert\" onclick=\"convertToInteractive('df-697ce800-cbcb-4edb-a8d2-344a5633fefe')\"\n",
              "            title=\"Convert this dataframe to an interactive table.\"\n",
              "            style=\"display:none;\">\n",
              "\n",
              "  <svg xmlns=\"http://www.w3.org/2000/svg\" height=\"24px\" viewBox=\"0 -960 960 960\">\n",
              "    <path d=\"M120-120v-720h720v720H120Zm60-500h600v-160H180v160Zm220 220h160v-160H400v160Zm0 220h160v-160H400v160ZM180-400h160v-160H180v160Zm440 0h160v-160H620v160ZM180-180h160v-160H180v160Zm440 0h160v-160H620v160Z\"/>\n",
              "  </svg>\n",
              "    </button>\n",
              "\n",
              "  <style>\n",
              "    .colab-df-container {\n",
              "      display:flex;\n",
              "      gap: 12px;\n",
              "    }\n",
              "\n",
              "    .colab-df-convert {\n",
              "      background-color: #E8F0FE;\n",
              "      border: none;\n",
              "      border-radius: 50%;\n",
              "      cursor: pointer;\n",
              "      display: none;\n",
              "      fill: #1967D2;\n",
              "      height: 32px;\n",
              "      padding: 0 0 0 0;\n",
              "      width: 32px;\n",
              "    }\n",
              "\n",
              "    .colab-df-convert:hover {\n",
              "      background-color: #E2EBFA;\n",
              "      box-shadow: 0px 1px 2px rgba(60, 64, 67, 0.3), 0px 1px 3px 1px rgba(60, 64, 67, 0.15);\n",
              "      fill: #174EA6;\n",
              "    }\n",
              "\n",
              "    .colab-df-buttons div {\n",
              "      margin-bottom: 4px;\n",
              "    }\n",
              "\n",
              "    [theme=dark] .colab-df-convert {\n",
              "      background-color: #3B4455;\n",
              "      fill: #D2E3FC;\n",
              "    }\n",
              "\n",
              "    [theme=dark] .colab-df-convert:hover {\n",
              "      background-color: #434B5C;\n",
              "      box-shadow: 0px 1px 3px 1px rgba(0, 0, 0, 0.15);\n",
              "      filter: drop-shadow(0px 1px 2px rgba(0, 0, 0, 0.3));\n",
              "      fill: #FFFFFF;\n",
              "    }\n",
              "  </style>\n",
              "\n",
              "    <script>\n",
              "      const buttonEl =\n",
              "        document.querySelector('#df-697ce800-cbcb-4edb-a8d2-344a5633fefe button.colab-df-convert');\n",
              "      buttonEl.style.display =\n",
              "        google.colab.kernel.accessAllowed ? 'block' : 'none';\n",
              "\n",
              "      async function convertToInteractive(key) {\n",
              "        const element = document.querySelector('#df-697ce800-cbcb-4edb-a8d2-344a5633fefe');\n",
              "        const dataTable =\n",
              "          await google.colab.kernel.invokeFunction('convertToInteractive',\n",
              "                                                    [key], {});\n",
              "        if (!dataTable) return;\n",
              "\n",
              "        const docLinkHtml = 'Like what you see? Visit the ' +\n",
              "          '<a target=\"_blank\" href=https://colab.research.google.com/notebooks/data_table.ipynb>data table notebook</a>'\n",
              "          + ' to learn more about interactive tables.';\n",
              "        element.innerHTML = '';\n",
              "        dataTable['output_type'] = 'display_data';\n",
              "        await google.colab.output.renderOutput(dataTable, element);\n",
              "        const docLink = document.createElement('div');\n",
              "        docLink.innerHTML = docLinkHtml;\n",
              "        element.appendChild(docLink);\n",
              "      }\n",
              "    </script>\n",
              "  </div>\n",
              "\n",
              "\n",
              "<div id=\"df-dd5bc389-d21d-4d3d-81ab-849124626c01\">\n",
              "  <button class=\"colab-df-quickchart\" onclick=\"quickchart('df-dd5bc389-d21d-4d3d-81ab-849124626c01')\"\n",
              "            title=\"Suggest charts\"\n",
              "            style=\"display:none;\">\n",
              "\n",
              "<svg xmlns=\"http://www.w3.org/2000/svg\" height=\"24px\"viewBox=\"0 0 24 24\"\n",
              "     width=\"24px\">\n",
              "    <g>\n",
              "        <path d=\"M19 3H5c-1.1 0-2 .9-2 2v14c0 1.1.9 2 2 2h14c1.1 0 2-.9 2-2V5c0-1.1-.9-2-2-2zM9 17H7v-7h2v7zm4 0h-2V7h2v10zm4 0h-2v-4h2v4z\"/>\n",
              "    </g>\n",
              "</svg>\n",
              "  </button>\n",
              "\n",
              "<style>\n",
              "  .colab-df-quickchart {\n",
              "      --bg-color: #E8F0FE;\n",
              "      --fill-color: #1967D2;\n",
              "      --hover-bg-color: #E2EBFA;\n",
              "      --hover-fill-color: #174EA6;\n",
              "      --disabled-fill-color: #AAA;\n",
              "      --disabled-bg-color: #DDD;\n",
              "  }\n",
              "\n",
              "  [theme=dark] .colab-df-quickchart {\n",
              "      --bg-color: #3B4455;\n",
              "      --fill-color: #D2E3FC;\n",
              "      --hover-bg-color: #434B5C;\n",
              "      --hover-fill-color: #FFFFFF;\n",
              "      --disabled-bg-color: #3B4455;\n",
              "      --disabled-fill-color: #666;\n",
              "  }\n",
              "\n",
              "  .colab-df-quickchart {\n",
              "    background-color: var(--bg-color);\n",
              "    border: none;\n",
              "    border-radius: 50%;\n",
              "    cursor: pointer;\n",
              "    display: none;\n",
              "    fill: var(--fill-color);\n",
              "    height: 32px;\n",
              "    padding: 0;\n",
              "    width: 32px;\n",
              "  }\n",
              "\n",
              "  .colab-df-quickchart:hover {\n",
              "    background-color: var(--hover-bg-color);\n",
              "    box-shadow: 0 1px 2px rgba(60, 64, 67, 0.3), 0 1px 3px 1px rgba(60, 64, 67, 0.15);\n",
              "    fill: var(--button-hover-fill-color);\n",
              "  }\n",
              "\n",
              "  .colab-df-quickchart-complete:disabled,\n",
              "  .colab-df-quickchart-complete:disabled:hover {\n",
              "    background-color: var(--disabled-bg-color);\n",
              "    fill: var(--disabled-fill-color);\n",
              "    box-shadow: none;\n",
              "  }\n",
              "\n",
              "  .colab-df-spinner {\n",
              "    border: 2px solid var(--fill-color);\n",
              "    border-color: transparent;\n",
              "    border-bottom-color: var(--fill-color);\n",
              "    animation:\n",
              "      spin 1s steps(1) infinite;\n",
              "  }\n",
              "\n",
              "  @keyframes spin {\n",
              "    0% {\n",
              "      border-color: transparent;\n",
              "      border-bottom-color: var(--fill-color);\n",
              "      border-left-color: var(--fill-color);\n",
              "    }\n",
              "    20% {\n",
              "      border-color: transparent;\n",
              "      border-left-color: var(--fill-color);\n",
              "      border-top-color: var(--fill-color);\n",
              "    }\n",
              "    30% {\n",
              "      border-color: transparent;\n",
              "      border-left-color: var(--fill-color);\n",
              "      border-top-color: var(--fill-color);\n",
              "      border-right-color: var(--fill-color);\n",
              "    }\n",
              "    40% {\n",
              "      border-color: transparent;\n",
              "      border-right-color: var(--fill-color);\n",
              "      border-top-color: var(--fill-color);\n",
              "    }\n",
              "    60% {\n",
              "      border-color: transparent;\n",
              "      border-right-color: var(--fill-color);\n",
              "    }\n",
              "    80% {\n",
              "      border-color: transparent;\n",
              "      border-right-color: var(--fill-color);\n",
              "      border-bottom-color: var(--fill-color);\n",
              "    }\n",
              "    90% {\n",
              "      border-color: transparent;\n",
              "      border-bottom-color: var(--fill-color);\n",
              "    }\n",
              "  }\n",
              "</style>\n",
              "\n",
              "  <script>\n",
              "    async function quickchart(key) {\n",
              "      const quickchartButtonEl =\n",
              "        document.querySelector('#' + key + ' button');\n",
              "      quickchartButtonEl.disabled = true;  // To prevent multiple clicks.\n",
              "      quickchartButtonEl.classList.add('colab-df-spinner');\n",
              "      try {\n",
              "        const charts = await google.colab.kernel.invokeFunction(\n",
              "            'suggestCharts', [key], {});\n",
              "      } catch (error) {\n",
              "        console.error('Error during call to suggestCharts:', error);\n",
              "      }\n",
              "      quickchartButtonEl.classList.remove('colab-df-spinner');\n",
              "      quickchartButtonEl.classList.add('colab-df-quickchart-complete');\n",
              "    }\n",
              "    (() => {\n",
              "      let quickchartButtonEl =\n",
              "        document.querySelector('#df-dd5bc389-d21d-4d3d-81ab-849124626c01 button');\n",
              "      quickchartButtonEl.style.display =\n",
              "        google.colab.kernel.accessAllowed ? 'block' : 'none';\n",
              "    })();\n",
              "  </script>\n",
              "</div>\n",
              "\n",
              "    </div>\n",
              "  </div>\n"
            ],
            "application/vnd.google.colaboratory.intrinsic+json": {
              "type": "dataframe",
              "variable_name": "data",
              "summary": "{\n  \"name\": \"data\",\n  \"rows\": 32,\n  \"fields\": [\n    {\n      \"column\": \"Duration\",\n      \"properties\": {\n        \"dtype\": \"number\",\n        \"std\": 70,\n        \"min\": 30,\n        \"max\": 450,\n        \"num_unique_values\": 4,\n        \"samples\": [\n          45,\n          30,\n          60\n        ],\n        \"semantic_type\": \"\",\n        \"description\": \"\"\n      }\n    },\n    {\n      \"column\": \"Date\",\n      \"properties\": {\n        \"dtype\": \"string\",\n        \"num_unique_values\": 30,\n        \"samples\": [\n          \"'2020/12/29'\",\n          \"'2020/12/16'\",\n          \"'2020/12/25'\"\n        ],\n        \"semantic_type\": \"\",\n        \"description\": \"\"\n      }\n    },\n    {\n      \"column\": \"Pulse\",\n      \"properties\": {\n        \"dtype\": \"number\",\n        \"std\": 7,\n        \"min\": 90,\n        \"max\": 130,\n        \"num_unique_values\": 15,\n        \"samples\": [\n          90,\n          108,\n          110\n        ],\n        \"semantic_type\": \"\",\n        \"description\": \"\"\n      }\n    },\n    {\n      \"column\": \"Maxpulse\",\n      \"properties\": {\n        \"dtype\": \"number\",\n        \"std\": 12,\n        \"min\": 101,\n        \"max\": 175,\n        \"num_unique_values\": 24,\n        \"samples\": [\n          133,\n          125,\n          130\n        ],\n        \"semantic_type\": \"\",\n        \"description\": \"\"\n      }\n    },\n    {\n      \"column\": \"Calories\",\n      \"properties\": {\n        \"dtype\": \"number\",\n        \"std\": 66.00377941111951,\n        \"min\": 195.1,\n        \"max\": 479.0,\n        \"num_unique_values\": 26,\n        \"samples\": [\n          195.1,\n          323.0,\n          409.1\n        ],\n        \"semantic_type\": \"\",\n        \"description\": \"\"\n      }\n    }\n  ]\n}"
            }
          },
          "metadata": {},
          "execution_count": 3
        }
      ]
    },
    {
      "cell_type": "code",
      "source": [],
      "metadata": {
        "id": "0ekByPp6sMO5"
      },
      "execution_count": null,
      "outputs": []
    },
    {
      "cell_type": "markdown",
      "source": [
        "## Exploratory Data Analysis"
      ],
      "metadata": {
        "id": "bLftsdzbRiss"
      }
    },
    {
      "cell_type": "markdown",
      "source": [
        "### Descriptive Statistics"
      ],
      "metadata": {
        "id": "UItlGMZxRl-1"
      }
    },
    {
      "cell_type": "markdown",
      "source": [
        "#### Measures of Central Tendency"
      ],
      "metadata": {
        "id": "j1QhSJH834QO"
      }
    },
    {
      "cell_type": "code",
      "source": [
        "# Measures of Central Tendency : MEAN,MEDIAN,MODE\n",
        "# code for mean\n",
        "col_mean = {}\n",
        "for i in data.select_dtypes(include='number').columns:\n",
        "    col_mean[i] = data[i].mean()\n",
        "print(col_mean)\n",
        "\n",
        "#code for median\n",
        "col_median={}\n",
        "for i in data.select_dtypes(include='number').columns:\n",
        "    col_median[i] = data[i].median()\n",
        "print(col_median)\n",
        "\n",
        "#code for mode\n",
        "col_mode = {}\n",
        "for i in data.columns:\n",
        "    col_mode[i] = data[i].mode().tolist()\n",
        "\n",
        "print(col_mode)"
      ],
      "metadata": {
        "colab": {
          "base_uri": "https://localhost:8080/"
        },
        "id": "D6F1tF33OAes",
        "outputId": "e05155cd-a8b6-44af-ded0-10984f5f86c3"
      },
      "execution_count": null,
      "outputs": [
        {
          "output_type": "stream",
          "name": "stdout",
          "text": [
            "{'Duration': 68.4375, 'Pulse': 103.5, 'Maxpulse': 128.5, 'Calories': 304.68}\n",
            "{'Duration': 60.0, 'Pulse': 102.5, 'Maxpulse': 127.5, 'Calories': 291.2}\n",
            "{'Duration': [60], 'Date': [\"'2020/12/12'\"], 'Pulse': [100], 'Maxpulse': [120], 'Calories': [300.0]}\n"
          ]
        }
      ]
    },
    {
      "cell_type": "markdown",
      "source": [
        "#### Measures of Variability"
      ],
      "metadata": {
        "id": "zXaafIO14BgW"
      }
    },
    {
      "cell_type": "code",
      "source": [
        "# Measures of Variablility (Dispersion): Range,Variance,SD,IQR,MAD,CV\n",
        "# Range\n",
        "Range = {}\n",
        "for i in data.select_dtypes(include='number').columns:\n",
        "    Range[i] = data[i].max()-data[i].min()\n",
        "print('Range: ',Range)\n",
        "\n",
        "# Variance\n",
        "Variance = {}\n",
        "for i in data.select_dtypes(include='number').columns:\n",
        "    Variance[i] = data[i].var()\n",
        "print('Var: ',Variance)\n",
        "\n",
        "# SD\n",
        "SD={}\n",
        "for i in data.select_dtypes(include='number').columns:\n",
        "  SD[i]=data[i].std()\n",
        "print('SD: ',SD)\n",
        "\n",
        "#Inter Quartile Range\n",
        "IQR ={}\n",
        "for i in data.select_dtypes(include='number').columns:\n",
        "  IQR[i]=data[i].quantile(0.75)-data[i].quantile(0.25)\n",
        "print('IQR: ',IQR)\n",
        "\n",
        "#Mean Absolute Deviation\n",
        "MAD={}\n",
        "for i in data.select_dtypes(include='number').columns:\n",
        "  MAD[i]=abs(data[i]-data[i].mean()).mean()\n",
        "print('MAD: ',MAD)\n",
        "\n",
        "# Coefficient of variation\n",
        "CV={}\n",
        "for i in data.select_dtypes(include='number').columns:\n",
        "  CV[i]=data[i].std()/data[i].mean()\n",
        "print('CV: ',CV)"
      ],
      "metadata": {
        "colab": {
          "base_uri": "https://localhost:8080/"
        },
        "id": "YBfelBJyR1I_",
        "outputId": "08b535f6-6c0b-4a28-db3f-7b29998f1d32"
      },
      "execution_count": null,
      "outputs": [
        {
          "output_type": "stream",
          "name": "stdout",
          "text": [
            "Range:  {'Duration': 420, 'Pulse': 40, 'Maxpulse': 74, 'Calories': 283.9}\n",
            "Var:  {'Duration': 4905.544354838709, 'Pulse': 61.354838709677416, 'Maxpulse': 168.96774193548387, 'Calories': 4356.498896551724}\n",
            "SD:  {'Duration': 70.03959133831886, 'Pulse': 7.8329329570523845, 'Maxpulse': 12.998759246000514, 'Calories': 66.00377941111951}\n",
            "IQR:  {'Duration': 0.0, 'Pulse': 6.5, 'Maxpulse': 12.25, 'Calories': 93.27500000000003}\n",
            "MAD:  {'Duration': 23.84765625, 'Pulse': 5.4375, 'Maxpulse': 8.96875, 'Calories': 53.85600000000001}\n",
            "CV:  {'Duration': 1.0234095538019194, 'Pulse': 0.07568051166234188, 'Maxpulse': 0.10115765950194952, 'Calories': 0.21663312134409712}\n"
          ]
        }
      ]
    },
    {
      "cell_type": "markdown",
      "source": [
        "#### Measures of Distribution"
      ],
      "metadata": {
        "id": "Ws7h4Rde699P"
      }
    },
    {
      "cell_type": "code",
      "source": [
        "# Measures of Distribution :\n",
        "#skewness\n",
        "Skewness={}\n",
        "for i in data.select_dtypes(include='number').columns:\n",
        "  Skewness[i]=data[i].skew()\n",
        "print('Skewness: ',Skewness)\n",
        "\n",
        "# positively/negatively/zero skewed\n",
        "Pos_Neg_Skew={}\n",
        "for i in Skewness.keys():\n",
        "  if Skewness[i]>0:\n",
        "    Pos_Neg_Skew[i]=1\n",
        "  elif Skewness[i]<0:\n",
        "    Pos_Neg_Skew[i]=2\n",
        "  else:\n",
        "    Pos_Neg_Skew[i]=0\n",
        "print('+ve/-ve Skewness: ',Pos_Neg_Skew)\n",
        "\n",
        "# Kurtosis\n",
        "Kurtosis = {}\n",
        "for i in data.select_dtypes(include='number').columns:\n",
        "    Kurtosis[i] = data[i].kurtosis()\n",
        "print('Kurtosis: ', Kurtosis)\n",
        "\n",
        "# Heavy/Light tails classification\n",
        "# 1 = Heavy Tails (Leptokurtic)\n",
        "# 0 = Normal Tails (Mesokurtic),\n",
        "# -1 = Light Tails (Platykurtic)\n",
        "\n",
        "Heavy_Light_Tail = {}\n",
        "for i in Kurtosis.keys():\n",
        "    if Kurtosis[i] > 3:\n",
        "        Heavy_Light_Tail[i] = 1  # Heavy Tails\n",
        "    elif Kurtosis[i] < 3:\n",
        "        Heavy_Light_Tail[i] = -1  # Light Tails\n",
        "    else:\n",
        "        Heavy_Light_Tail[i] = 0  # Normal Tails\n",
        "print('Hvy/Light Tail: ', Heavy_Light_Tail)\n",
        "\n",
        "\n",
        "#Quantiles\n",
        "Quantiles={}\n",
        "for i in data.select_dtypes(include='number').columns:\n",
        "  Quantiles[i]=data[i].quantile([0.25,0.5,0.75]).tolist()\n",
        "print('Quantiles: ',Quantiles)\n",
        "\n",
        "#Deciles\n",
        "Deciles={}\n",
        "for i in data.select_dtypes(include='number').columns:\n",
        "  Deciles[i]=data[i].quantile([0.1,0.2,0.3,0.4,0.5,0.6,0.7,0.8,0.9,1]).tolist()\n",
        "print('Deciles: ',Deciles)"
      ],
      "metadata": {
        "colab": {
          "base_uri": "https://localhost:8080/"
        },
        "id": "6N_j9BA_7Ccd",
        "outputId": "8ed1b0d6-a026-415e-e5d1-6ea0c823a5d5"
      },
      "execution_count": null,
      "outputs": [
        {
          "output_type": "stream",
          "name": "stdout",
          "text": [
            "Skewness:  {'Duration': 5.548443136530485, 'Pulse': 1.2872394290232436, 'Maxpulse': 1.3567952816219306, 'Calories': 0.6862712303263262}\n",
            "+ve/-ve Skewness:  {'Duration': 1, 'Pulse': 1, 'Maxpulse': 1, 'Calories': 1}\n",
            "Kurtosis:  {'Duration': 31.18116358134762, 'Pulse': 3.3334450742764434, 'Maxpulse': 4.566712249802704, 'Calories': 0.13658865719772884}\n",
            "Hvy/Light Tail:  {'Duration': 1, 'Pulse': 1, 'Maxpulse': 1, 'Calories': -1}\n",
            "Quantiles:  {'Duration': [60.0, 60.0, 60.0], 'Pulse': [100.0, 102.5, 106.5], 'Maxpulse': [120.0, 127.5, 132.25], 'Calories': [250.7, 291.2, 343.975]}\n",
            "Deciles:  {'Duration': [45.0, 48.0, 60.0, 60.0, 60.0, 60.0, 60.0, 60.0, 60.0, 450.0], 'Pulse': [97.1, 98.4, 100.0, 100.8, 102.5, 103.0, 104.7, 108.8, 110.0, 130.0], 'Maxpulse': [118.1, 120.0, 120.89999999999999, 124.4, 127.5, 130.6, 132.0, 133.8, 144.10000000000002, 175.0], 'Calories': [242.8, 249.2, 252.52, 278.0, 291.2, 309.2, 336.15, 366.16, 382.87000000000006, 479.0]}\n"
          ]
        }
      ]
    },
    {
      "cell_type": "markdown",
      "source": [],
      "metadata": {
        "id": "mDe45Ro7BMzF"
      }
    },
    {
      "cell_type": "markdown",
      "source": [
        "#### Measures of Shape & Spread"
      ],
      "metadata": {
        "id": "690St4wsBOb9"
      }
    },
    {
      "cell_type": "code",
      "source": [
        "# Measures of shape & spread: Min/Max,5-numsum(min,q1,median,q3,max)\n",
        "shapenspread = data.describe()\n",
        "print(shapenspread)"
      ],
      "metadata": {
        "colab": {
          "base_uri": "https://localhost:8080/"
        },
        "id": "EX7vDG6gBUgV",
        "outputId": "49981b7c-7526-4e1d-e44b-4e9163849b73"
      },
      "execution_count": null,
      "outputs": [
        {
          "output_type": "stream",
          "name": "stdout",
          "text": [
            "         Duration       Pulse    Maxpulse    Calories\n",
            "count   32.000000   32.000000   32.000000   30.000000\n",
            "mean    68.437500  103.500000  128.500000  304.680000\n",
            "std     70.039591    7.832933   12.998759   66.003779\n",
            "min     30.000000   90.000000  101.000000  195.100000\n",
            "25%     60.000000  100.000000  120.000000  250.700000\n",
            "50%     60.000000  102.500000  127.500000  291.200000\n",
            "75%     60.000000  106.500000  132.250000  343.975000\n",
            "max    450.000000  130.000000  175.000000  479.000000\n"
          ]
        }
      ]
    },
    {
      "cell_type": "markdown",
      "source": [
        "#### Measures of Relationship (Multiple Variables)"
      ],
      "metadata": {
        "id": "3VxEM3OWHH21"
      }
    },
    {
      "cell_type": "code",
      "source": [
        "# Measures of Relationship : Corr Coeff, CoV,CrossTab\n",
        "\n",
        "# Correlation Coefficient (Pearson,Spearman,kendall)\n",
        "correlation_coeff = {}\n",
        "for col1 in data.select_dtypes(include='number').columns:\n",
        "    for col2 in data.select_dtypes(include='number').columns:\n",
        "        if col1 != col2:\n",
        "            correlation_coeff[(col1, col2)] = {\n",
        "                'Pearson': data[col1].corr(data[col2], method='pearson'),\n",
        "                'Spearman': data[col1].corr(data[col2], method='spearman'),\n",
        "                'Kendall': data[col1].corr(data[col2], method='kendall')\n",
        "            }\n",
        "print('CorrCoeff: ',correlation_coeff)\n",
        "\n",
        "#Covariance\n",
        "Covariance = {}\n",
        "for col1 in data.select_dtypes(include='number').columns:\n",
        "    for col2 in data.select_dtypes(include='number').columns:\n",
        "        if col1 != col2:\n",
        "            Covariance[(col1, col2)] = data[col1].cov(data[col2])\n",
        "print('Cov: ',Covariance)\n",
        "\n",
        "#Cross Tabulation (for categorical features only)\n",
        "Cross_Tab = {}\n",
        "for col1 in data.select_dtypes(include='object').columns:\n",
        "    for col2 in data.select_dtypes(include='object').columns:\n",
        "        if col1 != col2:\n",
        "            Cross_Tab[(col1, col2)] = pd.crosstab(data[col1], data[col2])\n",
        "print('CrossTab: ',Cross_Tab)"
      ],
      "metadata": {
        "colab": {
          "base_uri": "https://localhost:8080/"
        },
        "id": "EobxDcFqEIVV",
        "outputId": "8207472a-a0f2-400a-d681-f92ab2c47258"
      },
      "execution_count": null,
      "outputs": [
        {
          "output_type": "stream",
          "name": "stdout",
          "text": [
            "CorrCoeff:  {('Duration', 'Pulse'): {'Pearson': 0.004409928587480161, 'Spearman': -0.034108664184295055, 'Kendall': -0.016211906245753773}, ('Duration', 'Maxpulse'): {'Pearson': 0.04995879046354989, 'Spearman': -0.07339393743951235, 'Kendall': -0.05744177055001674}, ('Duration', 'Calories'): {'Pearson': -0.11416902550347031, 'Spearman': 0.19324647076163579, 'Kendall': 0.158113883008419}, ('Pulse', 'Duration'): {'Pearson': 0.0044099285874801605, 'Spearman': -0.034108664184295055, 'Kendall': -0.016211906245753773}, ('Pulse', 'Maxpulse'): {'Pearson': 0.2765834823573775, 'Spearman': 0.6585994807845093, 'Kendall': 0.5408955811055326}, ('Pulse', 'Calories'): {'Pearson': 0.5131859760812312, 'Spearman': 0.6302143584539076, 'Kendall': 0.5121728213884001}, ('Maxpulse', 'Duration'): {'Pearson': 0.04995879046354989, 'Spearman': -0.07339393743951236, 'Kendall': -0.05744177055001673}, ('Maxpulse', 'Pulse'): {'Pearson': 0.2765834823573775, 'Spearman': 0.6585994807845093, 'Kendall': 0.5408955811055326}, ('Maxpulse', 'Calories'): {'Pearson': 0.357460118824158, 'Spearman': 0.4886717095038632, 'Kendall': 0.3595970788343886}, ('Calories', 'Duration'): {'Pearson': -0.1141690255034703, 'Spearman': 0.19324647076163579, 'Kendall': 0.158113883008419}, ('Calories', 'Pulse'): {'Pearson': 0.5131859760812312, 'Spearman': 0.6302143584539075, 'Kendall': 0.5121728213884001}, ('Calories', 'Maxpulse'): {'Pearson': 0.357460118824158, 'Spearman': 0.48867170950386324, 'Kendall': 0.3595970788343886}}\n",
            "Cov:  {('Duration', 'Pulse'): 2.4193548387096775, ('Duration', 'Maxpulse'): 45.483870967741936, ('Duration', 'Calories'): -544.510344827586, ('Pulse', 'Duration'): 2.4193548387096775, ('Pulse', 'Maxpulse'): 28.161290322580644, ('Pulse', 'Calories'): 260.3268965517242, ('Maxpulse', 'Duration'): 45.483870967741936, ('Maxpulse', 'Pulse'): 28.161290322580644, ('Maxpulse', 'Calories'): 308.18137931034477, ('Calories', 'Duration'): -544.510344827586, ('Calories', 'Pulse'): 260.3268965517242, ('Calories', 'Maxpulse'): 308.18137931034477}\n",
            "CrossTab:  {}\n"
          ]
        }
      ]
    },
    {
      "cell_type": "markdown",
      "source": [
        "#### Measures of Frequency (Frequency Analysis)"
      ],
      "metadata": {
        "id": "CfWFkwefHWND"
      }
    },
    {
      "cell_type": "code",
      "source": [
        "#Frequency Analysis: Counts,Proportions/percentages,CF\n",
        "# Counts: Frequency of each category/value data | hehe meoww! :3\n",
        "Counts = {}\n",
        "for col in data.select_dtypes(exclude='number').columns:\n",
        "    Counts[col] = data[col].value_counts().to_dict()\n",
        "print('Counts: ',Counts)\n",
        "\n",
        "# Proportions/percentages : The relative freq of categorical data\n",
        "proportions = {}\n",
        "for col in data.select_dtypes(exclude='number').columns:\n",
        "    proportions[col] = (data[col].value_counts(normalize=True) * 100).to_dict()\n",
        "print('Proportions: ',proportions)\n",
        "\n",
        "# Cumulative Frequency\n",
        "cumulative_freq = {}\n",
        "for col in data.select_dtypes(include='number').columns:\n",
        "  sorted_data = data[col].value_counts().sort_index()\n",
        "  cumulative_freq[col] = sorted_data.cumsum().to_dict()\n",
        "print('Cumulative Freq: ',cumulative_freq)"
      ],
      "metadata": {
        "colab": {
          "base_uri": "https://localhost:8080/"
        },
        "id": "Prt4bw9IHgGG",
        "outputId": "4b83dd8e-6b20-49e9-a4c1-5a3a6bc64014"
      },
      "execution_count": null,
      "outputs": [
        {
          "output_type": "stream",
          "name": "stdout",
          "text": [
            "Counts:  {'Date': {\"'2020/12/12'\": 2, \"'2020/12/01'\": 1, \"'2020/12/17'\": 1, \"'2020/12/30'\": 1, \"'2020/12/29'\": 1, \"'2020/12/28'\": 1, \"'2020/12/27'\": 1, '20201226': 1, \"'2020/12/25'\": 1, \"'2020/12/24'\": 1, \"'2020/12/23'\": 1, \"'2020/12/21'\": 1, \"'2020/12/20'\": 1, \"'2020/12/19'\": 1, \"'2020/12/18'\": 1, \"'2020/12/16'\": 1, \"'2020/12/02'\": 1, \"'2020/12/15'\": 1, \"'2020/12/14'\": 1, \"'2020/12/13'\": 1, \"'2020/12/11'\": 1, \"'2020/12/10'\": 1, \"'2020/12/09'\": 1, \"'2020/12/08'\": 1, \"'2020/12/07'\": 1, \"'2020/12/06'\": 1, \"'2020/12/05'\": 1, \"'2020/12/04'\": 1, \"'2020/12/03'\": 1, \"'2020/12/31'\": 1}}\n",
            "Proportions:  {'Date': {\"'2020/12/12'\": 6.451612903225806, \"'2020/12/01'\": 3.225806451612903, \"'2020/12/17'\": 3.225806451612903, \"'2020/12/30'\": 3.225806451612903, \"'2020/12/29'\": 3.225806451612903, \"'2020/12/28'\": 3.225806451612903, \"'2020/12/27'\": 3.225806451612903, '20201226': 3.225806451612903, \"'2020/12/25'\": 3.225806451612903, \"'2020/12/24'\": 3.225806451612903, \"'2020/12/23'\": 3.225806451612903, \"'2020/12/21'\": 3.225806451612903, \"'2020/12/20'\": 3.225806451612903, \"'2020/12/19'\": 3.225806451612903, \"'2020/12/18'\": 3.225806451612903, \"'2020/12/16'\": 3.225806451612903, \"'2020/12/02'\": 3.225806451612903, \"'2020/12/15'\": 3.225806451612903, \"'2020/12/14'\": 3.225806451612903, \"'2020/12/13'\": 3.225806451612903, \"'2020/12/11'\": 3.225806451612903, \"'2020/12/10'\": 3.225806451612903, \"'2020/12/09'\": 3.225806451612903, \"'2020/12/08'\": 3.225806451612903, \"'2020/12/07'\": 3.225806451612903, \"'2020/12/06'\": 3.225806451612903, \"'2020/12/05'\": 3.225806451612903, \"'2020/12/04'\": 3.225806451612903, \"'2020/12/03'\": 3.225806451612903, \"'2020/12/31'\": 3.225806451612903}}\n",
            "Cumulative Freq:  {'Duration': {30: 1, 45: 7, 60: 31, 450: 32}, 'Pulse': {90: 1, 92: 3, 97: 4, 98: 7, 100: 13, 102: 16, 103: 20, 104: 22, 105: 23, 106: 24, 108: 25, 109: 27, 110: 29, 117: 31, 130: 32}, 'Maxpulse': {101: 1, 112: 2, 115: 3, 118: 4, 119: 5, 120: 10, 123: 12, 124: 13, 125: 14, 126: 15, 127: 16, 128: 17, 129: 18, 130: 19, 131: 20, 132: 24, 133: 25, 134: 26, 135: 27, 136: 28, 145: 29, 147: 30, 148: 31, 175: 32}, 'Calories': {195.1: 1, 215.2: 2, 241.0: 3, 243.0: 5, 246.0: 6, 250.0: 7, 250.7: 9, 253.3: 10, 269.0: 11, 275.0: 12, 280.0: 13, 282.0: 14, 282.4: 15, 300.0: 18, 323.0: 19, 329.3: 20, 334.5: 21, 340.0: 22, 345.3: 23, 364.2: 24, 374.0: 25, 379.3: 26, 380.3: 27, 406.0: 28, 409.1: 29, 479.0: 30}}\n"
          ]
        }
      ]
    },
    {
      "cell_type": "markdown",
      "source": [
        "#### Dataset-level Descriptions"
      ],
      "metadata": {
        "id": "yBpix1CeKPIs"
      }
    },
    {
      "cell_type": "code",
      "source": [
        "# Dimensions\n",
        "dimensions = {}\n",
        "dimensions['Rows'] = data.shape[0]\n",
        "dimensions['Cols'] = data.shape[1]\n",
        "print('Dimensions: ',dimensions)\n",
        "\n",
        "# Datatypes\n",
        "datatypes = {}\n",
        "for col in data.columns:\n",
        "    datatypes[col] = data[col].dtype\n",
        "print('Datatypes: ',datatypes)\n",
        "\n",
        "# Missing values\n",
        "missing_values = {}\n",
        "for col in data.columns:\n",
        "    missing_values[col] = data[col].isna().sum()\n",
        "print('Missing Values: ',missing_values)\n",
        "\n",
        "# Unique values\n",
        "unique_values = {}\n",
        "for col in data.columns:\n",
        "    unique_values[col] = data[col].nunique()\n",
        "print('Unique Values: ',unique_values)\n",
        "\n",
        "# Duplicate values\n",
        "duplicate_values = {}\n",
        "for col in data.columns:\n",
        "    duplicate_values[col] = data[col].duplicated().sum()\n",
        "print('Duplicate Values: ',duplicate_values)"
      ],
      "metadata": {
        "colab": {
          "base_uri": "https://localhost:8080/"
        },
        "id": "lhYyLl7XKJb0",
        "outputId": "2e044384-fc9a-4eb4-bd3c-fde0d1f144be"
      },
      "execution_count": null,
      "outputs": [
        {
          "output_type": "stream",
          "name": "stdout",
          "text": [
            "Dimensions:  {'Rows': 32, 'Cols': 5}\n",
            "Datatypes:  {'Duration': dtype('int64'), 'Date': dtype('O'), 'Pulse': dtype('int64'), 'Maxpulse': dtype('int64'), 'Calories': dtype('float64')}\n",
            "Missing Values:  {'Duration': 0, 'Date': 1, 'Pulse': 0, 'Maxpulse': 0, 'Calories': 2}\n",
            "Unique Values:  {'Duration': 4, 'Date': 30, 'Pulse': 15, 'Maxpulse': 24, 'Calories': 26}\n",
            "Duplicate Values:  {'Duration': 28, 'Date': 1, 'Pulse': 17, 'Maxpulse': 8, 'Calories': 5}\n"
          ]
        }
      ]
    },
    {
      "cell_type": "markdown",
      "source": [
        "### Detecting NA values"
      ],
      "metadata": {
        "id": "jkCWLTKhUozO"
      }
    },
    {
      "cell_type": "code",
      "source": [
        "# Checking if any NA values present\n",
        "data.isna().any().any()"
      ],
      "metadata": {
        "colab": {
          "base_uri": "https://localhost:8080/"
        },
        "id": "wu-MiSviqDdh",
        "outputId": "5540b989-d491-476a-c348-b7025500c9f9"
      },
      "execution_count": null,
      "outputs": [
        {
          "output_type": "execute_result",
          "data": {
            "text/plain": [
              "True"
            ]
          },
          "metadata": {},
          "execution_count": 101
        }
      ]
    },
    {
      "cell_type": "code",
      "source": [
        "# Showing NA values in the entire dataframe\n",
        "#data.isna()"
      ],
      "metadata": {
        "collapsed": true,
        "id": "Xn7AIAZ1Qn4d"
      },
      "execution_count": null,
      "outputs": []
    },
    {
      "cell_type": "code",
      "source": [
        "na_Data = data.isna().sum()\n",
        "print(na_Data)"
      ],
      "metadata": {
        "colab": {
          "base_uri": "https://localhost:8080/"
        },
        "id": "gc6TzzMnUftV",
        "outputId": "c12e1887-e230-44c8-f277-0138758b27b7"
      },
      "execution_count": null,
      "outputs": [
        {
          "output_type": "stream",
          "name": "stdout",
          "text": [
            "Duration    0\n",
            "Date        1\n",
            "Pulse       0\n",
            "Maxpulse    0\n",
            "Calories    2\n",
            "dtype: int64\n"
          ]
        }
      ]
    },
    {
      "cell_type": "code",
      "source": [
        "data.isna().mean()*100"
      ],
      "metadata": {
        "colab": {
          "base_uri": "https://localhost:8080/",
          "height": 241
        },
        "id": "heguP6nwoyVX",
        "outputId": "8b9e5255-a428-4e2b-c96d-70ccb890a1bd"
      },
      "execution_count": null,
      "outputs": [
        {
          "output_type": "execute_result",
          "data": {
            "text/plain": [
              "Duration    0.000\n",
              "Date        3.125\n",
              "Pulse       0.000\n",
              "Maxpulse    0.000\n",
              "Calories    6.250\n",
              "dtype: float64"
            ],
            "text/html": [
              "<div>\n",
              "<style scoped>\n",
              "    .dataframe tbody tr th:only-of-type {\n",
              "        vertical-align: middle;\n",
              "    }\n",
              "\n",
              "    .dataframe tbody tr th {\n",
              "        vertical-align: top;\n",
              "    }\n",
              "\n",
              "    .dataframe thead th {\n",
              "        text-align: right;\n",
              "    }\n",
              "</style>\n",
              "<table border=\"1\" class=\"dataframe\">\n",
              "  <thead>\n",
              "    <tr style=\"text-align: right;\">\n",
              "      <th></th>\n",
              "      <th>0</th>\n",
              "    </tr>\n",
              "  </thead>\n",
              "  <tbody>\n",
              "    <tr>\n",
              "      <th>Duration</th>\n",
              "      <td>0.000</td>\n",
              "    </tr>\n",
              "    <tr>\n",
              "      <th>Date</th>\n",
              "      <td>3.125</td>\n",
              "    </tr>\n",
              "    <tr>\n",
              "      <th>Pulse</th>\n",
              "      <td>0.000</td>\n",
              "    </tr>\n",
              "    <tr>\n",
              "      <th>Maxpulse</th>\n",
              "      <td>0.000</td>\n",
              "    </tr>\n",
              "    <tr>\n",
              "      <th>Calories</th>\n",
              "      <td>6.250</td>\n",
              "    </tr>\n",
              "  </tbody>\n",
              "</table>\n",
              "</div><br><label><b>dtype:</b> float64</label>"
            ]
          },
          "metadata": {},
          "execution_count": 33
        }
      ]
    },
    {
      "cell_type": "code",
      "source": [
        "# idk why tf i coded this when i coudve just used isna().sum()..........SMH\n",
        "# JSONifying the cols with na\n",
        "from textwrap import indent\n",
        "import json\n",
        "cols = {}\n",
        "for i in data.columns:\n",
        "   #(print(i,data[i].isna().sum()))\n",
        "   cols[i] = int(data[i].isna().sum())\n",
        "json_Result = json.dumps(cols, indent=4)\n",
        "print(json_Result)"
      ],
      "metadata": {
        "colab": {
          "base_uri": "https://localhost:8080/"
        },
        "id": "L9V7rU7ko2kH",
        "outputId": "beb79b6c-97fd-4660-c9a1-e945dfeeaee5"
      },
      "execution_count": null,
      "outputs": [
        {
          "output_type": "stream",
          "name": "stdout",
          "text": [
            "{\n",
            "    \"Duration\": 0,\n",
            "    \"Date\": 1,\n",
            "    \"Pulse\": 0,\n",
            "    \"Maxpulse\": 0,\n",
            "    \"Calories\": 2\n",
            "}\n"
          ]
        }
      ]
    },
    {
      "cell_type": "code",
      "source": [
        "# Heatmap of NA vals\n",
        "import missingno as msno\n",
        "msno.matrix(data)"
      ],
      "metadata": {
        "colab": {
          "base_uri": "https://localhost:8080/",
          "height": 454
        },
        "id": "aKa3wdj2pYJI",
        "outputId": "6fccea8a-87a7-496c-8628-b8adc4ec1ba3"
      },
      "execution_count": null,
      "outputs": [
        {
          "output_type": "execute_result",
          "data": {
            "text/plain": [
              "<Axes: >"
            ]
          },
          "metadata": {},
          "execution_count": 43
        },
        {
          "output_type": "display_data",
          "data": {
            "text/plain": [
              "<Figure size 2500x1000 with 2 Axes>"
            ],
            "image/png": "[encoded data removed]"
          },
          "metadata": {}
        }
      ]
    }
  ]
}