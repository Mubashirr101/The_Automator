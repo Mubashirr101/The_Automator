{
  "cells": [
    {
      "cell_type": "markdown",
      "metadata": {
        "id": "v5UT8lpqQp8G"
      },
      "source": [
        "# The Automator's Initial Prototype Code for EDA"
      ]
    },
    {
      "cell_type": "markdown",
      "metadata": {
        "id": "knCTT7pZRUqd"
      },
      "source": [
        "## Importing required libraries"
      ]
    },
    {
      "cell_type": "code",
      "execution_count": 1,
      "metadata": {
        "colab": {
          "base_uri": "https://localhost:8080/"
        },
        "id": "vEo_LsGlMkz_",
        "outputId": "0a673a9c-e205-45ca-d2f4-cd248d6ef8cd"
      },
      "outputs": [],
      "source": [
        "import pandas as pd\n",
        "import numpy as np\n",
        "import matplotlib.pyplot as plt\n",
        "import seaborn as sns\n"
      ]
    },
    {
      "cell_type": "markdown",
      "metadata": {
        "id": "S2MIJE7cRbh9"
      },
      "source": [
        "## Reading CSV files from kaggle"
      ]
    },
    {
      "cell_type": "code",
      "execution_count": 4,
      "metadata": {
        "colab": {
          "base_uri": "https://localhost:8080/",
          "height": 0
        },
        "id": "WBs6ItG0NF4c",
        "outputId": "a83c9d2b-400b-434a-f2f6-fc3089d0f584"
      },
      "outputs": [
        {
          "data": {
            "text/html": [
              "<div>\n",
              "<style scoped>\n",
              "    .dataframe tbody tr th:only-of-type {\n",
              "        vertical-align: middle;\n",
              "    }\n",
              "\n",
              "    .dataframe tbody tr th {\n",
              "        vertical-align: top;\n",
              "    }\n",
              "\n",
              "    .dataframe thead th {\n",
              "        text-align: right;\n",
              "    }\n",
              "</style>\n",
              "<table border=\"1\" class=\"dataframe\">\n",
              "  <thead>\n",
              "    <tr style=\"text-align: right;\">\n",
              "      <th></th>\n",
              "      <th>Duration</th>\n",
              "      <th>Date</th>\n",
              "      <th>Pulse</th>\n",
              "      <th>Maxpulse</th>\n",
              "      <th>Calories</th>\n",
              "    </tr>\n",
              "  </thead>\n",
              "  <tbody>\n",
              "    <tr>\n",
              "      <th>0</th>\n",
              "      <td>60</td>\n",
              "      <td>'2020/12/01'</td>\n",
              "      <td>110</td>\n",
              "      <td>130</td>\n",
              "      <td>409.1</td>\n",
              "    </tr>\n",
              "    <tr>\n",
              "      <th>1</th>\n",
              "      <td>60</td>\n",
              "      <td>'2020/12/02'</td>\n",
              "      <td>117</td>\n",
              "      <td>145</td>\n",
              "      <td>479.0</td>\n",
              "    </tr>\n",
              "    <tr>\n",
              "      <th>2</th>\n",
              "      <td>60</td>\n",
              "      <td>'2020/12/03'</td>\n",
              "      <td>103</td>\n",
              "      <td>135</td>\n",
              "      <td>340.0</td>\n",
              "    </tr>\n",
              "    <tr>\n",
              "      <th>3</th>\n",
              "      <td>45</td>\n",
              "      <td>'2020/12/04'</td>\n",
              "      <td>109</td>\n",
              "      <td>175</td>\n",
              "      <td>282.4</td>\n",
              "    </tr>\n",
              "    <tr>\n",
              "      <th>4</th>\n",
              "      <td>45</td>\n",
              "      <td>'2020/12/05'</td>\n",
              "      <td>117</td>\n",
              "      <td>148</td>\n",
              "      <td>406.0</td>\n",
              "    </tr>\n",
              "  </tbody>\n",
              "</table>\n",
              "</div>"
            ],
            "text/plain": [
              "   Duration          Date  Pulse  Maxpulse  Calories\n",
              "0        60  '2020/12/01'    110       130     409.1\n",
              "1        60  '2020/12/02'    117       145     479.0\n",
              "2        60  '2020/12/03'    103       135     340.0\n",
              "3        45  '2020/12/04'    109       175     282.4\n",
              "4        45  '2020/12/05'    117       148     406.0"
            ]
          },
          "execution_count": 4,
          "metadata": {},
          "output_type": "execute_result"
        }
      ],
      "source": [
        "#importing kaggle dataset\n",
        "import kagglehub\n",
        "path = kagglehub.dataset_download(\"themrityunjaypathak/pandas-practice-dataset\")\n",
        "data = pd.read_csv(f\"{path}/data.csv\")\n",
        "data.head()\n"
      ]
    },
    {
      "cell_type": "code",
      "execution_count": 5,
      "metadata": {},
      "outputs": [
        {
          "data": {
            "text/plain": [
              "Duration      int64\n",
              "Date         object\n",
              "Pulse         int64\n",
              "Maxpulse      int64\n",
              "Calories    float64\n",
              "dtype: object"
            ]
          },
          "execution_count": 5,
          "metadata": {},
          "output_type": "execute_result"
        }
      ],
      "source": [
        "data.dtypes"
      ]
    },
    {
      "cell_type": "markdown",
      "metadata": {
        "id": "bLftsdzbRiss"
      },
      "source": [
        "## Exploratory Data Analysis"
      ]
    },
    {
      "cell_type": "markdown",
      "metadata": {
        "id": "UItlGMZxRl-1"
      },
      "source": [
        "### Descriptive Statistics"
      ]
    },
    {
      "cell_type": "markdown",
      "metadata": {
        "id": "j1QhSJH834QO"
      },
      "source": [
        "#### Measures of Central Tendency"
      ]
    },
    {
      "cell_type": "code",
      "execution_count": null,
      "metadata": {
        "colab": {
          "base_uri": "https://localhost:8080/"
        },
        "id": "D6F1tF33OAes",
        "outputId": "02551d07-18b5-4d33-f9b5-d573c38aa0cd"
      },
      "outputs": [
        {
          "name": "stdout",
          "output_type": "stream",
          "text": [
            "{'Duration': 68.4375, 'Pulse': 103.5, 'Maxpulse': 128.5, 'Calories': 304.68}\n",
            "{'Duration': 60.0, 'Pulse': 102.5, 'Maxpulse': 127.5, 'Calories': 291.2}\n",
            "{'Duration': [60], 'Date': [\"'2020/12/12'\"], 'Pulse': [100], 'Maxpulse': [120], 'Calories': [300.0]}\n"
          ]
        }
      ],
      "source": [
        "# Measures of Central Tendency : MEAN,MEDIAN,MODE\n",
        "# code for mean\n",
        "col_mean = {}\n",
        "for i in data.select_dtypes(include='number').columns:\n",
        "    col_mean[i] = data[i].mean()\n",
        "print(col_mean)\n",
        "\n",
        "#code for median\n",
        "col_median={}\n",
        "for i in data.select_dtypes(include='number').columns:\n",
        "    col_median[i] = data[i].median()\n",
        "print(col_median)\n",
        "\n",
        "#code for mode\n",
        "col_mode = {}\n",
        "for i in data.columns:\n",
        "    col_mode[i] = data[i].mode().tolist()\n",
        "\n",
        "print(col_mode)"
      ]
    },
    {
      "cell_type": "markdown",
      "metadata": {
        "id": "zXaafIO14BgW"
      },
      "source": [
        "#### Measures of Variability"
      ]
    },
    {
      "cell_type": "code",
      "execution_count": null,
      "metadata": {
        "colab": {
          "base_uri": "https://localhost:8080/"
        },
        "id": "YBfelBJyR1I_",
        "outputId": "fe2ccd29-8beb-4bcf-dd9b-f444fafe81f0"
      },
      "outputs": [
        {
          "name": "stdout",
          "output_type": "stream",
          "text": [
            "Range:  {'Duration': 420, 'Pulse': 40, 'Maxpulse': 74, 'Calories': 283.9}\n",
            "Var:  {'Duration': 4905.544354838709, 'Pulse': 61.354838709677416, 'Maxpulse': 168.96774193548387, 'Calories': 4356.498896551724}\n",
            "SD:  {'Duration': 70.03959133831886, 'Pulse': 7.8329329570523845, 'Maxpulse': 12.998759246000514, 'Calories': 66.00377941111951}\n",
            "IQR:  {'Duration': 0.0, 'Pulse': 6.5, 'Maxpulse': 12.25, 'Calories': 93.27500000000003}\n",
            "MAD:  {'Duration': 23.84765625, 'Pulse': 5.4375, 'Maxpulse': 8.96875, 'Calories': 53.85600000000001}\n",
            "CV:  {'Duration': 1.0234095538019194, 'Pulse': 0.07568051166234188, 'Maxpulse': 0.10115765950194952, 'Calories': 0.21663312134409712}\n"
          ]
        }
      ],
      "source": [
        "# Measures of Variablility (Dispersion): Range,Variance,SD,IQR,MAD,CV\n",
        "# Range\n",
        "Range = {}\n",
        "for i in data.select_dtypes(include='number').columns:\n",
        "    Range[i] = data[i].max()-data[i].min()\n",
        "print('Range: ',Range)\n",
        "\n",
        "# Variance\n",
        "Variance = {}\n",
        "for i in data.select_dtypes(include='number').columns:\n",
        "    Variance[i] = data[i].var()\n",
        "print('Var: ',Variance)\n",
        "\n",
        "# SD\n",
        "SD={}\n",
        "for i in data.select_dtypes(include='number').columns:\n",
        "  SD[i]=data[i].std()\n",
        "print('SD: ',SD)\n",
        "\n",
        "#Inter Quartile Range\n",
        "IQR ={}\n",
        "for i in data.select_dtypes(include='number').columns:\n",
        "  IQR[i]=data[i].quantile(0.75)-data[i].quantile(0.25)\n",
        "print('IQR: ',IQR)\n",
        "\n",
        "#Mean Absolute Deviation\n",
        "MAD={}\n",
        "for i in data.select_dtypes(include='number').columns:\n",
        "  MAD[i]=abs(data[i]-data[i].mean()).mean()\n",
        "print('MAD: ',MAD)\n",
        "\n",
        "# Coefficient of variation\n",
        "CV={}\n",
        "for i in data.select_dtypes(include='number').columns:\n",
        "  CV[i]=data[i].std()/data[i].mean()\n",
        "print('CV: ',CV)"
      ]
    },
    {
      "cell_type": "markdown",
      "metadata": {
        "id": "Ws7h4Rde699P"
      },
      "source": [
        "#### Measures of Distribution"
      ]
    },
    {
      "cell_type": "code",
      "execution_count": null,
      "metadata": {
        "colab": {
          "base_uri": "https://localhost:8080/"
        },
        "id": "6N_j9BA_7Ccd",
        "outputId": "8444d050-7962-4994-be90-a247e0419064"
      },
      "outputs": [
        {
          "name": "stdout",
          "output_type": "stream",
          "text": [
            "Skewness:  {'Duration': 5.548443136530485, 'Pulse': 1.2872394290232436, 'Maxpulse': 1.3567952816219306, 'Calories': 0.6862712303263262}\n",
            "+ve/-ve Skewness:  {'Duration': 1, 'Pulse': 1, 'Maxpulse': 1, 'Calories': 1}\n",
            "Kurtosis:  {'Duration': 31.18116358134762, 'Pulse': 3.3334450742764434, 'Maxpulse': 4.566712249802704, 'Calories': 0.13658865719772884}\n",
            "Hvy/Light Tail:  {'Duration': 1, 'Pulse': 1, 'Maxpulse': 1, 'Calories': -1}\n",
            "Quantiles:  {'Duration': [60.0, 60.0, 60.0], 'Pulse': [100.0, 102.5, 106.5], 'Maxpulse': [120.0, 127.5, 132.25], 'Calories': [250.7, 291.2, 343.975]}\n",
            "Deciles:  {'Duration': [45.0, 48.0, 60.0, 60.0, 60.0, 60.0, 60.0, 60.0, 60.0, 450.0], 'Pulse': [97.1, 98.4, 100.0, 100.8, 102.5, 103.0, 104.7, 108.8, 110.0, 130.0], 'Maxpulse': [118.1, 120.0, 120.89999999999999, 124.4, 127.5, 130.6, 132.0, 133.8, 144.10000000000002, 175.0], 'Calories': [242.8, 249.2, 252.52, 278.0, 291.2, 309.2, 336.15, 366.16, 382.87000000000006, 479.0]}\n"
          ]
        }
      ],
      "source": [
        "# Measures of Distribution :\n",
        "#skewness\n",
        "Skewness={}\n",
        "for i in data.select_dtypes(include='number').columns:\n",
        "  Skewness[i]=data[i].skew()\n",
        "print('Skewness: ',Skewness)\n",
        "\n",
        "# positively/negatively/zero skewed\n",
        "Pos_Neg_Skew={}\n",
        "for i in Skewness.keys():\n",
        "  if Skewness[i]>0:\n",
        "    Pos_Neg_Skew[i]=1\n",
        "  elif Skewness[i]<0:\n",
        "    Pos_Neg_Skew[i]=2\n",
        "  else:\n",
        "    Pos_Neg_Skew[i]=0\n",
        "print('+ve/-ve Skewness: ',Pos_Neg_Skew)\n",
        "\n",
        "# Kurtosis\n",
        "Kurtosis = {}\n",
        "for i in data.select_dtypes(include='number').columns:\n",
        "    Kurtosis[i] = data[i].kurtosis()\n",
        "print('Kurtosis: ', Kurtosis)\n",
        "\n",
        "# Heavy/Light tails classification\n",
        "# 1 = Heavy Tails (Leptokurtic)\n",
        "# 0 = Normal Tails (Mesokurtic),\n",
        "# -1 = Light Tails (Platykurtic)\n",
        "\n",
        "Heavy_Light_Tail = {}\n",
        "for i in Kurtosis.keys():\n",
        "    if Kurtosis[i] > 3:\n",
        "        Heavy_Light_Tail[i] = 1  # Heavy Tails\n",
        "    elif Kurtosis[i] < 3:\n",
        "        Heavy_Light_Tail[i] = -1  # Light Tails\n",
        "    else:\n",
        "        Heavy_Light_Tail[i] = 0  # Normal Tails\n",
        "print('Hvy/Light Tail: ', Heavy_Light_Tail)\n",
        "\n",
        "\n",
        "#Quantiles\n",
        "Quantiles={}\n",
        "for i in data.select_dtypes(include='number').columns:\n",
        "  Quantiles[i]=data[i].quantile([0.25,0.5,0.75]).tolist()\n",
        "print('Quantiles: ',Quantiles)\n",
        "\n",
        "#Deciles\n",
        "Deciles={}\n",
        "for i in data.select_dtypes(include='number').columns:\n",
        "  Deciles[i]=data[i].quantile([0.1,0.2,0.3,0.4,0.5,0.6,0.7,0.8,0.9,1]).tolist()\n",
        "print('Deciles: ',Deciles)"
      ]
    },
    {
      "cell_type": "markdown",
      "metadata": {
        "id": "mDe45Ro7BMzF"
      },
      "source": []
    },
    {
      "cell_type": "markdown",
      "metadata": {
        "id": "690St4wsBOb9"
      },
      "source": [
        "#### Measures of Shape & Spread"
      ]
    },
    {
      "cell_type": "code",
      "execution_count": null,
      "metadata": {
        "colab": {
          "base_uri": "https://localhost:8080/"
        },
        "id": "EX7vDG6gBUgV",
        "outputId": "cf6da502-cba1-4401-cbca-2ecc7c1ee747"
      },
      "outputs": [
        {
          "name": "stdout",
          "output_type": "stream",
          "text": [
            "         Duration       Pulse    Maxpulse    Calories\n",
            "count   32.000000   32.000000   32.000000   30.000000\n",
            "mean    68.437500  103.500000  128.500000  304.680000\n",
            "std     70.039591    7.832933   12.998759   66.003779\n",
            "min     30.000000   90.000000  101.000000  195.100000\n",
            "25%     60.000000  100.000000  120.000000  250.700000\n",
            "50%     60.000000  102.500000  127.500000  291.200000\n",
            "75%     60.000000  106.500000  132.250000  343.975000\n",
            "max    450.000000  130.000000  175.000000  479.000000\n"
          ]
        }
      ],
      "source": [
        "# Measures of shape & spread: Min/Max,5-numsum(min,q1,median,q3,max)\n",
        "shapenspread = data.describe()\n",
        "print(shapenspread)"
      ]
    },
    {
      "cell_type": "markdown",
      "metadata": {
        "id": "3VxEM3OWHH21"
      },
      "source": [
        "#### Measures of Relationship (Multiple Variables)"
      ]
    },
    {
      "cell_type": "code",
      "execution_count": null,
      "metadata": {
        "colab": {
          "base_uri": "https://localhost:8080/"
        },
        "id": "EobxDcFqEIVV",
        "outputId": "11a840f7-719a-4ac8-cee9-e4c4778372b7"
      },
      "outputs": [
        {
          "name": "stdout",
          "output_type": "stream",
          "text": [
            "CorrCoeff:  {('Duration', 'Pulse'): {'Pearson': 0.004409928587480161, 'Spearman': -0.034108664184295055, 'Kendall': -0.016211906245753773}, ('Duration', 'Maxpulse'): {'Pearson': 0.04995879046354989, 'Spearman': -0.07339393743951235, 'Kendall': -0.05744177055001674}, ('Duration', 'Calories'): {'Pearson': -0.11416902550347031, 'Spearman': 0.19324647076163579, 'Kendall': 0.158113883008419}, ('Pulse', 'Duration'): {'Pearson': 0.0044099285874801605, 'Spearman': -0.034108664184295055, 'Kendall': -0.016211906245753773}, ('Pulse', 'Maxpulse'): {'Pearson': 0.2765834823573775, 'Spearman': 0.6585994807845093, 'Kendall': 0.5408955811055326}, ('Pulse', 'Calories'): {'Pearson': 0.5131859760812312, 'Spearman': 0.6302143584539076, 'Kendall': 0.5121728213884001}, ('Maxpulse', 'Duration'): {'Pearson': 0.04995879046354989, 'Spearman': -0.07339393743951236, 'Kendall': -0.05744177055001673}, ('Maxpulse', 'Pulse'): {'Pearson': 0.2765834823573775, 'Spearman': 0.6585994807845093, 'Kendall': 0.5408955811055326}, ('Maxpulse', 'Calories'): {'Pearson': 0.357460118824158, 'Spearman': 0.4886717095038632, 'Kendall': 0.3595970788343886}, ('Calories', 'Duration'): {'Pearson': -0.1141690255034703, 'Spearman': 0.19324647076163579, 'Kendall': 0.158113883008419}, ('Calories', 'Pulse'): {'Pearson': 0.5131859760812312, 'Spearman': 0.6302143584539075, 'Kendall': 0.5121728213884001}, ('Calories', 'Maxpulse'): {'Pearson': 0.357460118824158, 'Spearman': 0.48867170950386324, 'Kendall': 0.3595970788343886}}\n",
            "Cov:  {('Duration', 'Pulse'): 2.4193548387096775, ('Duration', 'Maxpulse'): 45.483870967741936, ('Duration', 'Calories'): -544.510344827586, ('Pulse', 'Duration'): 2.4193548387096775, ('Pulse', 'Maxpulse'): 28.161290322580644, ('Pulse', 'Calories'): 260.3268965517242, ('Maxpulse', 'Duration'): 45.483870967741936, ('Maxpulse', 'Pulse'): 28.161290322580644, ('Maxpulse', 'Calories'): 308.18137931034477, ('Calories', 'Duration'): -544.510344827586, ('Calories', 'Pulse'): 260.3268965517242, ('Calories', 'Maxpulse'): 308.18137931034477}\n",
            "CrossTab:  {}\n"
          ]
        }
      ],
      "source": [
        "# Measures of Relationship : Corr Coeff, CoV,CrossTab\n",
        "\n",
        "# Correlation Coefficient (Pearson,Spearman,kendall)\n",
        "correlation_coeff = {}\n",
        "for col1 in data.select_dtypes(include='number').columns:\n",
        "    for col2 in data.select_dtypes(include='number').columns:\n",
        "        if col1 != col2:\n",
        "            correlation_coeff[(col1, col2)] = {\n",
        "                'Pearson': data[col1].corr(data[col2], method='pearson'),\n",
        "                'Spearman': data[col1].corr(data[col2], method='spearman'),\n",
        "                'Kendall': data[col1].corr(data[col2], method='kendall')\n",
        "            }\n",
        "print('CorrCoeff: ',correlation_coeff)\n",
        "\n",
        "#Covariance\n",
        "Covariance = {}\n",
        "for col1 in data.select_dtypes(include='number').columns:\n",
        "    for col2 in data.select_dtypes(include='number').columns:\n",
        "        if col1 != col2:\n",
        "            Covariance[(col1, col2)] = data[col1].cov(data[col2])\n",
        "print('Cov: ',Covariance)\n",
        "\n",
        "#Cross Tabulation (for categorical features only)\n",
        "Cross_Tab = {}\n",
        "for col1 in data.select_dtypes(include='object').columns:\n",
        "    for col2 in data.select_dtypes(include='object').columns:\n",
        "        if col1 != col2:\n",
        "            Cross_Tab[(col1, col2)] = pd.crosstab(data[col1], data[col2])\n",
        "print('CrossTab: ',Cross_Tab)"
      ]
    },
    {
      "cell_type": "markdown",
      "metadata": {
        "id": "CfWFkwefHWND"
      },
      "source": [
        "#### Measures of Frequency (Frequency Analysis)"
      ]
    },
    {
      "cell_type": "code",
      "execution_count": null,
      "metadata": {
        "colab": {
          "base_uri": "https://localhost:8080/"
        },
        "id": "Prt4bw9IHgGG",
        "outputId": "ebbec521-7c72-4c13-d752-cb18934ffee6"
      },
      "outputs": [
        {
          "name": "stdout",
          "output_type": "stream",
          "text": [
            "Counts:  {'Date': {\"'2020/12/12'\": 2, \"'2020/12/01'\": 1, \"'2020/12/17'\": 1, \"'2020/12/30'\": 1, \"'2020/12/29'\": 1, \"'2020/12/28'\": 1, \"'2020/12/27'\": 1, '20201226': 1, \"'2020/12/25'\": 1, \"'2020/12/24'\": 1, \"'2020/12/23'\": 1, \"'2020/12/21'\": 1, \"'2020/12/20'\": 1, \"'2020/12/19'\": 1, \"'2020/12/18'\": 1, \"'2020/12/16'\": 1, \"'2020/12/02'\": 1, \"'2020/12/15'\": 1, \"'2020/12/14'\": 1, \"'2020/12/13'\": 1, \"'2020/12/11'\": 1, \"'2020/12/10'\": 1, \"'2020/12/09'\": 1, \"'2020/12/08'\": 1, \"'2020/12/07'\": 1, \"'2020/12/06'\": 1, \"'2020/12/05'\": 1, \"'2020/12/04'\": 1, \"'2020/12/03'\": 1, \"'2020/12/31'\": 1}}\n",
            "Proportions:  {'Date': {\"'2020/12/12'\": 6.451612903225806, \"'2020/12/01'\": 3.225806451612903, \"'2020/12/17'\": 3.225806451612903, \"'2020/12/30'\": 3.225806451612903, \"'2020/12/29'\": 3.225806451612903, \"'2020/12/28'\": 3.225806451612903, \"'2020/12/27'\": 3.225806451612903, '20201226': 3.225806451612903, \"'2020/12/25'\": 3.225806451612903, \"'2020/12/24'\": 3.225806451612903, \"'2020/12/23'\": 3.225806451612903, \"'2020/12/21'\": 3.225806451612903, \"'2020/12/20'\": 3.225806451612903, \"'2020/12/19'\": 3.225806451612903, \"'2020/12/18'\": 3.225806451612903, \"'2020/12/16'\": 3.225806451612903, \"'2020/12/02'\": 3.225806451612903, \"'2020/12/15'\": 3.225806451612903, \"'2020/12/14'\": 3.225806451612903, \"'2020/12/13'\": 3.225806451612903, \"'2020/12/11'\": 3.225806451612903, \"'2020/12/10'\": 3.225806451612903, \"'2020/12/09'\": 3.225806451612903, \"'2020/12/08'\": 3.225806451612903, \"'2020/12/07'\": 3.225806451612903, \"'2020/12/06'\": 3.225806451612903, \"'2020/12/05'\": 3.225806451612903, \"'2020/12/04'\": 3.225806451612903, \"'2020/12/03'\": 3.225806451612903, \"'2020/12/31'\": 3.225806451612903}}\n",
            "Cumulative Freq:  {'Duration': {30: 1, 45: 7, 60: 31, 450: 32}, 'Pulse': {90: 1, 92: 3, 97: 4, 98: 7, 100: 13, 102: 16, 103: 20, 104: 22, 105: 23, 106: 24, 108: 25, 109: 27, 110: 29, 117: 31, 130: 32}, 'Maxpulse': {101: 1, 112: 2, 115: 3, 118: 4, 119: 5, 120: 10, 123: 12, 124: 13, 125: 14, 126: 15, 127: 16, 128: 17, 129: 18, 130: 19, 131: 20, 132: 24, 133: 25, 134: 26, 135: 27, 136: 28, 145: 29, 147: 30, 148: 31, 175: 32}, 'Calories': {195.1: 1, 215.2: 2, 241.0: 3, 243.0: 5, 246.0: 6, 250.0: 7, 250.7: 9, 253.3: 10, 269.0: 11, 275.0: 12, 280.0: 13, 282.0: 14, 282.4: 15, 300.0: 18, 323.0: 19, 329.3: 20, 334.5: 21, 340.0: 22, 345.3: 23, 364.2: 24, 374.0: 25, 379.3: 26, 380.3: 27, 406.0: 28, 409.1: 29, 479.0: 30}}\n"
          ]
        }
      ],
      "source": [
        "#Frequency Analysis: Counts,Proportions/percentages,CF\n",
        "# Counts: Frequency of each category/value data | hehe meoww! :3\n",
        "Counts = {}\n",
        "for col in data.select_dtypes(exclude='number').columns:\n",
        "    Counts[col] = data[col].value_counts().to_dict()\n",
        "print('Counts: ',Counts)\n",
        "\n",
        "# Proportions/percentages : The relative freq of categorical data\n",
        "proportions = {}\n",
        "for col in data.select_dtypes(exclude='number').columns:\n",
        "    proportions[col] = (data[col].value_counts(normalize=True) * 100).to_dict()\n",
        "print('Proportions: ',proportions)\n",
        "\n",
        "# Cumulative Frequency\n",
        "cumulative_freq = {}\n",
        "for col in data.select_dtypes(include='number').columns:\n",
        "  sorted_data = data[col].value_counts().sort_index()\n",
        "  cumulative_freq[col] = sorted_data.cumsum().to_dict()\n",
        "print('Cumulative Freq: ',cumulative_freq)"
      ]
    },
    {
      "cell_type": "markdown",
      "metadata": {
        "id": "yBpix1CeKPIs"
      },
      "source": [
        "#### Dataset-level Descriptions"
      ]
    },
    {
      "cell_type": "code",
      "execution_count": null,
      "metadata": {
        "colab": {
          "base_uri": "https://localhost:8080/"
        },
        "id": "lhYyLl7XKJb0",
        "outputId": "274f1eae-82a2-4880-b462-c422e3dc12a1"
      },
      "outputs": [
        {
          "name": "stdout",
          "output_type": "stream",
          "text": [
            "Dimensions:  {'Rows': 32, 'Cols': 5}\n",
            "Datatypes:  {'Duration': dtype('int64'), 'Date': dtype('O'), 'Pulse': dtype('int64'), 'Maxpulse': dtype('int64'), 'Calories': dtype('float64')}\n",
            "Missing Values:  {'Duration': 0, 'Date': 1, 'Pulse': 0, 'Maxpulse': 0, 'Calories': 2}\n",
            "Unique Values:  {'Duration': 4, 'Date': 30, 'Pulse': 15, 'Maxpulse': 24, 'Calories': 26}\n",
            "Duplicate Values:  {'Duration': 28, 'Date': 1, 'Pulse': 17, 'Maxpulse': 8, 'Calories': 5}\n"
          ]
        }
      ],
      "source": [
        "# Dimensions\n",
        "dimensions = {}\n",
        "dimensions['Rows'] = data.shape[0]\n",
        "dimensions['Cols'] = data.shape[1]\n",
        "print('Dimensions: ',dimensions)\n",
        "\n",
        "# Datatypes\n",
        "datatypes = {}\n",
        "for col in data.columns:\n",
        "    datatypes[col] = data[col].dtype\n",
        "print('Datatypes: ',datatypes)\n",
        "\n",
        "# Missing values\n",
        "missing_values = {}\n",
        "for col in data.columns:\n",
        "    missing_values[col] = data[col].isna().sum()\n",
        "print('Missing Values: ',missing_values)\n",
        "\n",
        "# Unique values\n",
        "unique_values = {}\n",
        "for col in data.columns:\n",
        "    unique_values[col] = data[col].nunique()\n",
        "print('Unique Values: ',unique_values)\n",
        "\n",
        "# Duplicate values\n",
        "duplicate_values = {}\n",
        "for col in data.columns:\n",
        "    duplicate_values[col] = data[col].duplicated().sum()\n",
        "print('Duplicate Values: ',duplicate_values)"
      ]
    },
    {
      "cell_type": "markdown",
      "metadata": {
        "id": "jkCWLTKhUozO"
      },
      "source": [
        "### Detecting NA values"
      ]
    },
    {
      "cell_type": "code",
      "execution_count": 6,
      "metadata": {
        "colab": {
          "base_uri": "https://localhost:8080/"
        },
        "id": "wu-MiSviqDdh",
        "outputId": "92a4680f-679d-481c-c706-3a9797928c7f"
      },
      "outputs": [
        {
          "data": {
            "text/plain": [
              "np.True_"
            ]
          },
          "execution_count": 6,
          "metadata": {},
          "output_type": "execute_result"
        }
      ],
      "source": [
        "# Checking if any NA values present\n",
        "data.isna().any().any()"
      ]
    },
    {
      "cell_type": "code",
      "execution_count": 7,
      "metadata": {
        "colab": {
          "base_uri": "https://localhost:8080/"
        },
        "id": "Xn7AIAZ1Qn4d",
        "outputId": "18eb5577-7fe5-4633-8c77-fc5e5fa992e4"
      },
      "outputs": [
        {
          "data": {
            "text/plain": [
              "31"
            ]
          },
          "execution_count": 7,
          "metadata": {},
          "output_type": "execute_result"
        }
      ],
      "source": [
        "len(data['Date'].unique())"
      ]
    },
    {
      "cell_type": "code",
      "execution_count": 8,
      "metadata": {
        "colab": {
          "base_uri": "https://localhost:8080/"
        },
        "id": "gc6TzzMnUftV",
        "outputId": "1f4efeb1-ef7e-4dc3-8484-1702c7b5d3fc"
      },
      "outputs": [
        {
          "name": "stdout",
          "output_type": "stream",
          "text": [
            "0    2020-12-01\n",
            "1    2020-12-02\n",
            "2    2020-12-03\n",
            "3    2020-12-04\n",
            "4    2020-12-05\n",
            "5    2020-12-06\n",
            "6    2020-12-07\n",
            "7    2020-12-08\n",
            "8    2020-12-09\n",
            "9    2020-12-10\n",
            "10   2020-12-11\n",
            "11   2020-12-12\n",
            "12   2020-12-12\n",
            "13   2020-12-13\n",
            "14   2020-12-14\n",
            "15   2020-12-15\n",
            "16   2020-12-16\n",
            "17   2020-12-17\n",
            "18   2020-12-18\n",
            "19   2020-12-19\n",
            "20   2020-12-20\n",
            "21   2020-12-21\n",
            "22          NaT\n",
            "23   2020-12-23\n",
            "24   2020-12-24\n",
            "25   2020-12-25\n",
            "26          NaT\n",
            "27   2020-12-27\n",
            "28   2020-12-28\n",
            "29   2020-12-29\n",
            "30   2020-12-30\n",
            "31   2020-12-31\n",
            "Name: Date, dtype: datetime64[ns]\n"
          ]
        }
      ],
      "source": [
        "data.isna().sum() * 100 / len(data)\n",
        "# data.iloc[2,1]=np.nan\n",
        "# data.iloc[3,1]=np.nan\n",
        "# data.isna().sum()\n",
        "\n",
        "df = pd.to_datetime(data['Date'], errors='coerce')\n",
        "print(df)"
      ]
    },
    {
      "cell_type": "code",
      "execution_count": 9,
      "metadata": {
        "id": "NxSmHbW3QLIC"
      },
      "outputs": [],
      "source": [
        "#!pip install verstack"
      ]
    },
    {
      "cell_type": "code",
      "execution_count": 10,
      "metadata": {
        "id": "heguP6nwoyVX"
      },
      "outputs": [],
      "source": [
        "# #percentage of na in a col\n",
        "# from scipy.stats import shapiro,skew\n",
        "# from verstack import NaNImputer\n",
        "\n",
        "# missing_info = {}\n",
        "# percent_null = data.isna().sum() * 100 / len(data)\n",
        "# imputer = NaNImputer()\n",
        "\n",
        "# def is_continuous(data, col, uniqueness_threshold=0.2):\n",
        "#     if data[col].dtype in ['float64', 'int64']:\n",
        "#         unique_ratio = len(data[col].unique()) / len(data[col])\n",
        "#         return unique_ratio >= uniqueness_threshold\n",
        "#     return False\n",
        "\n",
        "# def is_categorical(data, col):\n",
        "#     if data[col].dtype == 'object' or data[col].dtype.name == 'category':\n",
        "#         # check if the number of unique values is low compared to the number of rows\n",
        "#         unique_ratio = len(data[col].unique()) / len(data[col])\n",
        "#         return unique_ratio < 0.2\n",
        "#         # Categorical columns typically have a lower unique value ratio\n",
        "#     return False\n",
        "\n",
        "# def is_normal(data, col):\n",
        "#     non_na_values = data[col].dropna()\n",
        "#     stat, p = shapiro(non_na_values)\n",
        "#     return p > 0.05  # If p > 0.05, data is normally distributed\n",
        "\n",
        "# def is_skewed(data, col, skew_threshold=0.5):\n",
        "#     non_na_values = data[col].dropna()\n",
        "#     skew_value = skew(non_na_values)\n",
        "#     return abs(skew_value) > skew_threshold\n",
        "#    # If skewness is greater than threshold, data is skewed\n",
        "\n",
        "# def id_timeseries_or_ordered(data,col):\n",
        "#         # Check if the column is already datetime or can be converted to datetime\n",
        "#         if pd.api.types.is_datetime64_any_dtype(data[col]) or pd.to_datetime(data[col], errors='coerce').notna().all():\n",
        "#             print(\"timeserdata\")\n",
        "#             return True\n",
        "#         # Check if the column is numerically ordered (monotonically increasing/decreasing)\n",
        "#         if pd.api.types.is_numeric_dtype(data[col]):\n",
        "#             if data[col].is_monotonic_increasing or data[col].is_monotonic_decreasing:\n",
        "#                 print(\"ordered\")\n",
        "#                 return True\n",
        "#         # If the column is neither datetime-like nor ordered, return False\n",
        "#         return False\n",
        "\n",
        "# # print(percent_null)\n",
        "# for col in percent_null.keys():\n",
        "#   if (percent_null[col]>0):\n",
        "#     if (percent_null[col]<=5):\n",
        "#         missing_info[col] = percent_null[col]\n",
        "#         # <5% is minimal hence we'll drop the row\n",
        "#         print(f\"{col}: Dropping rows with NaN values.\")\n",
        "#         data.dropna(subset=[col],inplace=True)\n",
        "#     elif (5<percent_null[col]<=20):\n",
        "#       missing_info[col] = percent_null[col]\n",
        "#       # 5-20% Null is moderate, we'll imputate\n",
        "#       # 1. We'll do mean if the data is cont.&normallydist\n",
        "#       #    For cont.: well check  if its numeric & % of unique data is >20%\n",
        "#       #    For normality, we'll do a Shapiro-Wilk test\n",
        "#       # 2. We'll do median if data is cont.&skewed\n",
        "#       #    For cont.: well check  if its numeric & % of unique data is >20%\n",
        "#       #    For skewness, well test it with skew()\n",
        "#       # 3. We'll do mode if its categorical\n",
        "#       #    For that we'll check if its an object & % of unique data is <20%\n",
        "#       if is_continuous(data,col):\n",
        "#         if is_normal(data,col):\n",
        "#           print(f\"{col}: Filling NaN with mean (normal distribution){data[col].mean()}.\")\n",
        "#           data[col] = data[col].fillna(data[col].mean())\n",
        "#         elif is_skewed(data,col):\n",
        "#           print(f\"{col}: Filling NaN with median (skewed distribution){data[col].median()}.\")\n",
        "#           data[col] = data[col].fillna(data[col].median())\n",
        "#       elif is_categorical(data,col):\n",
        "#         print(f\"{col}: Filling NaN with mode (most frequent value){data[col].mode()}.\")\n",
        "#         data[col] = data[col].fillna(data[col].mode()[0])\n",
        "#       # For time series/ordered data , we'll do forward/backward fill\n",
        "#       elif id_timeseries_or_ordered(data,col):\n",
        "#         print(f\"{col}: Filling NaN with forward/backward fill.\")\n",
        "#         data[col] = data[col].fillna(method='ffill').fillna(method='bfill')\n",
        "\n",
        "#     # also linear interpolation & multiple imputaion & forward/backward fill remaining\n",
        "\n",
        "#     elif (20<percent_null[col]<=40):\n",
        "#       # 20-40% is a lot of missing values but still its workable with predictive imputation\n",
        "#       missing_info[col] = percent_null[col]\n",
        "#       print(\"we'll do Predictive imputation/model based approach\")\n",
        "#       data[col] = data[col]\n",
        "#       df_imputed = imputer.impute(df_with_nans)\n",
        "\n",
        "#     elif (percent_null[col]>40):\n",
        "#       # More than 40% of the data is null, the column is unsavable\n",
        "#       missing_info[col] = percent_null[col]\n",
        "#       print(\"Dropping the whole column \")\n",
        "#       data.drop(columns=[col],inplace=True)\n",
        "# print(missing_info)\n"
      ]
    },
    {
      "cell_type": "code",
      "execution_count": 11,
      "metadata": {
        "colab": {
          "base_uri": "https://localhost:8080/"
        },
        "id": "gYeL3jPzXACi",
        "outputId": "14fde666-74b7-45da-904f-66f33d01f336"
      },
      "outputs": [
        {
          "name": "stdout",
          "output_type": "stream",
          "text": [
            "\n",
            " * Initiating NaNImputer.impute\n",
            "     . Dataset dimensions:\n",
            "     .. rows:         32\n",
            "     .. columns:      5\n",
            "     .. mb in memory: 0.0\n",
            "     .. NaN cols num: 2\n",
            "\n",
            "   - Drop hopeless NaN cols\n",
            "\n",
            "   - Processing whole data for imputation\n",
            "\n",
            "   - Imputing single core 2 cols\n",
            "     . Imputed (multiclass) - 1        NaN in Date\n",
            "     . Imputed (regression) - 2        NaN in Calories\n",
            "\n",
            "   - Missing values after imputation: 0\n",
            "\n",
            "Time elapsed for impute execution: 0.62616 seconds\n"
          ]
        }
      ],
      "source": [
        "# OR JUST USE THE NANIMPUTER\n",
        "# !pip install verstack\n",
        "from verstack import NaNImputer\n",
        "imputer = NaNImputer()\n",
        "df_imputed = imputer.impute(data)"
      ]
    },
    {
      "cell_type": "code",
      "execution_count": 12,
      "metadata": {
        "colab": {
          "base_uri": "https://localhost:8080/",
          "height": 0
        },
        "id": "x5z8xJslBu9P",
        "outputId": "33ecf574-5bf5-4cdb-8a4d-bc90f7faaf96"
      },
      "outputs": [
        {
          "data": {
            "text/plain": [
              "Duration    0\n",
              "Date        0\n",
              "Pulse       0\n",
              "Maxpulse    0\n",
              "Calories    0\n",
              "dtype: int64"
            ]
          },
          "execution_count": 12,
          "metadata": {},
          "output_type": "execute_result"
        }
      ],
      "source": [
        "df_imputed.isna().sum()"
      ]
    },
    {
      "cell_type": "code",
      "execution_count": 13,
      "metadata": {
        "id": "L9V7rU7ko2kH"
      },
      "outputs": [],
      "source": [
        "# # idk why tf i coded this when i coudve just used isna().sum()..........SMH\n",
        "# # JSONifying the cols with na\n",
        "# from textwrap import indent\n",
        "# import json\n",
        "# cols = {}\n",
        "# for i in data.columns:\n",
        "#    #(print(i,data[i].isna().sum()))\n",
        "#    cols[i] = int(data[i].isna().sum())\n",
        "# json_Result = json.dumps(cols, indent=4)\n",
        "# print(json_Result)"
      ]
    },
    {
      "cell_type": "markdown",
      "metadata": {
        "id": "C9XyRygugD6b"
      },
      "source": [
        "## Data Vizualization"
      ]
    },
    {
      "cell_type": "code",
      "execution_count": 69,
      "metadata": {
        "id": "IhHeNo8FgChE"
      },
      "outputs": [],
      "source": [
        "# Types of data viz\n",
        "import matplotlib.pyplot as plt\n",
        "import seaborn as sns\n",
        "import missingno as msno\n",
        "import plotly.express as px\n",
        "import pandas as pd\n",
        "import numpy as np\n",
        "import folium \n",
        "from folium.plugins import HeatMap\n",
        "\n",
        "class vizualize:\n",
        "    def __init__(self):\n",
        "        pass\n",
        "    # Overview #\n",
        "    def histo(self,col):\n",
        "        # histograms\n",
        "        plt.hist(col,bins=5,alpha=0.5,label=col.name)\n",
        "        plt.xlabel(col.name)\n",
        "        plt.ylabel('frequency')\n",
        "        plt.title(f'Histogram of {col.name}')\n",
        "        plt.legend()\n",
        "        plt.show()\n",
        "\n",
        "    def boxplt(self,col):\n",
        "        # box plot\n",
        "        plt.boxplot(col)\n",
        "        plt.xlabel(col.name)\n",
        "        plt.ylabel('values')\n",
        "        plt.title(f'Boxplot of {col.name}')\n",
        "        plt.show()\n",
        "\n",
        "    def barchrt(self,col):\n",
        "        # bar charts\n",
        "        col.value_counts().plot(kind='bar')\n",
        "        plt.xlabel(col.name)\n",
        "        plt.ylabel('frequency')\n",
        "        plt.title(f'Bar chart of {col.name}')\n",
        "        plt.show()\n",
        "\n",
        "    def piechrt(self,col):\n",
        "        # Pie charts\n",
        "        col.value_counts().plot(kind='pie')\n",
        "        plt.xlabel(col.name)\n",
        "        plt.ylabel('frequency')\n",
        "        plt.title(f'Pie chart of {col.name}')\n",
        "        plt.show()\n",
        "\n",
        "    # Data Distribution\n",
        "\n",
        "    def densityplots(self,col):\n",
        "        # density plots\n",
        "        col.plot.density(color='green')\n",
        "        plt.xlabel(col.name)\n",
        "        plt.ylabel('density')\n",
        "        plt.title(f'Density plot of {col.name}')\n",
        "        plt.show()\n",
        "\n",
        "    def violinplots(self,col):\n",
        "        # violin plots\n",
        "        plt.violinplot(col)\n",
        "        plt.xlabel(col.name)\n",
        "        plt.ylabel('values')\n",
        "        plt.title(f'Violin plot of {col.name}')\n",
        "        plt.show()\n",
        "\n",
        "    def ridgeplots(self,col):\n",
        "        # ridge plots\n",
        "        # for categorical data features\n",
        "        pass\n",
        "\n",
        "    # missing data vizualizations\n",
        "    def heatmaps_na(self,df):\n",
        "        # heatmaps for missing data\n",
        "        missing_corr = df.isna().corr()\n",
        "\n",
        "        sns.heatmap(missing_corr,annot=True, cmap='coolwarm',cbar=True)\n",
        "        plt.xlabel('columns')\n",
        "        plt.ylabel('rows')\n",
        "        plt.title('Correlation of missing data')\n",
        "        plt.show()\n",
        "\n",
        "    def missingness_matrix(self,df):\n",
        "        # missingness matrix\n",
        "        msno.matrix(df)\n",
        "        plt.title('Missingness Matrix')\n",
        "        plt.show()\n",
        "\n",
        "    def barplots_na(self,df):\n",
        "        # barplots for na counts\n",
        "        missing_counts = df.isna().sum()\n",
        "        missing_counts.plot(kind='bar',color='skyblue',edgecolor='black')\n",
        "        plt.title('Missing Values per column')\n",
        "        plt.xlabel('columns')\n",
        "        plt.ylabel('missing values count')\n",
        "        plt.xticks(rotation=0)\n",
        "        plt.show()\n",
        "\n",
        "    # vizualization for relationships\n",
        "    def scatterplt(self,col1,col2):\n",
        "        # scatter plots\n",
        "        plt.scatter(col1,col2)\n",
        "        plt.xlabel(col1.name)\n",
        "        plt.ylabel(col2.name)\n",
        "        plt.title(f'Scatter plot of {col1.name} vs {col2.name}')\n",
        "        plt.show()\n",
        "\n",
        "    def bubblechrts(self,col1,col2,col3):\n",
        "        # bubble charts\n",
        "        fig = px.scatter(x=col1, y=col2, size=col3)\n",
        "        fig.show()\n",
        "\n",
        "    def pairplots(self,df):\n",
        "        # pair plots\n",
        "        sns.pairplot(df)\n",
        "        plt.show()\n",
        "        # will add more support for the user to choose the plotting variables\n",
        "\n",
        "    # categorical data relationship vizualization\n",
        "    def barplts_cat(self,col1,col2):\n",
        "        # Bar Plot: Compare categories of one variable with another\n",
        "        sns.barplot(x=col1,y=col2,ci=None,palette='viridis')\n",
        "        plt.xlabel(col1.name)\n",
        "        plt.ylabel(col2.name)\n",
        "        plt.title(f'Bar plot of {col1.name} vs {col2.name}')\n",
        "        plt.show()\n",
        "\n",
        "    def cnt_plts(self,col):\n",
        "        # Count Plot: Frequency distribution of categorical variables\n",
        "        sns.countplot(x=col)\n",
        "        plt.xlabel(col.name)\n",
        "        plt.ylabel('count')\n",
        "        plt.title(f'Count plot of {col.name}')\n",
        "        plt.show()\n",
        "\n",
        "    def stacked_brplts(self,df,col1,col2):\n",
        "        # stacked bar charts\n",
        "        # Stacked Bar Chart: Show proportions of categories within a larger category\n",
        "        stacked_data = df.groupby([col1.name,col2.name]).size().unstack(fill_value=0)\n",
        "        stacked_data.plot(kind='bar', stacked=True, figsize=(10, 7), colormap='tab20')\n",
        "        plt.title('Sales Split by Product Category and Region', fontsize=16)\n",
        "        plt.xlabel(col1.name, fontsize=12)\n",
        "        plt.ylabel(col2.name, fontsize=12)\n",
        "        plt.legend(title='Product Category')\n",
        "        plt.tight_layout()\n",
        "        plt.show()\n",
        "\n",
        "    # multivariate distribution vizualization\n",
        "    def heatmaps_mul(self,df):\n",
        "        # heatmaps\n",
        "        # plt.figure(figsize=(8, 6))\n",
        "        # correlation_matrix = df[['Sales', 'Profit', 'Cost']].corr()\n",
        "        # sns.heatmap(correlation_matrix, annot=True, cmap='coolwarm', fmt='.2f')\n",
        "        # plt.title('Correlation Heatmap of Numerical Variables', fontsize=16)\n",
        "        # plt.show()\n",
        "        sns.heatmap(df.corr(numeric_only=True),annot=True,cmap='YlGnBu')\n",
        "        plt.title('Correlation Heatmap')\n",
        "        plt.show()\n",
        "\n",
        "    def facetgrids(self,df,col1,col2,col3):\n",
        "        # facet grids\n",
        "        # sns.set(style=\"whitegrid\")\n",
        "        # g = sns.FacetGrid(df, col=\"col1\", hue=\"col2\", height=4, aspect=1)\n",
        "        # g.map(sns.histplot, \"col3\", kde=True, alpha=0.7).add_legend()\n",
        "        # g.fig.subplots_adjust(top=0.9)\n",
        "        # g.fig.suptitle('Distribution of col3 by col1 Across col2', fontsize=16)\n",
        "        # plt.show()\n",
        "\n",
        "        grids = sns.FacetGrid(df,row=col1.name,col=col2.name)\n",
        "        grids.map(plt.scatter,col1.name,col2.name,edgecolor='w')\n",
        "        grids.add_legend()\n",
        "        plt.show()\n",
        "\n",
        "    def plots_3d(self,col1,col2,col3):\n",
        "        # 3d plots\n",
        "        fig = plt.figure(figsize=(10,7))\n",
        "        ax = fig.add_subplot(111,projection='3d')\n",
        "        ax.scatter(col1,col2,col3,c='blue',marker='o',s=100)\n",
        "        ax.set_title(f'3d Plot : {col1.name} vs. {col2.name} vs {col3.name}',fontsize=16)\n",
        "        ax.set_xlabel(col1.name,fontsize=12)\n",
        "        ax.set_ylabel(col2.name, fontsize=12)\n",
        "        ax.set_zlabel(col3.name, fontsize=12)\n",
        "        plt.show()\n",
        "\n",
        "    # time series vizualization\n",
        "    def line_chrts(self,col1,col2):\n",
        "        # line charts\n",
        "        plt.figure(figsize=(10,6))\n",
        "        plt.plot(col1,col2,marker=\"o\",linestyle=\"-\",color=\"blue\")\n",
        "        plt.title(f'f{col2.name} vs {col1.name}',fontsize=16)\n",
        "        plt.xlabel(col1.name,fontsize=12)\n",
        "        plt.ylabel(col2.name,fontsize=12)\n",
        "        plt.grid()\n",
        "        plt.show()\n",
        "\n",
        "    def area_chrts(self,col1,col2):\n",
        "        # area charts\n",
        "        plt.figure(figsize=(10,6))\n",
        "        plt.fill_between(col1,col2,color='skyblue',alpha=0.4)\n",
        "        plt.plot(col1,col2,marker='o',color='blue')\n",
        "        plt.title(f'{col2.name} vs {col1.name}',fontsize=16)\n",
        "        plt.xlabel(col1.name,fontsize=12)\n",
        "        plt.ylabel(col2.name,fontsize=12)\n",
        "        plt.grid()\n",
        "        plt.show()\n",
        "\n",
        "    def heatmps_ts(self,df,col1,col2,col3):\n",
        "        # heatmaps\n",
        "        cols_pivot = pd.pivot(data=df,index=col1.name,columns=col2.name,values=col3.name)\n",
        "        plt.figure(figsize=(12,8))\n",
        "        sns.heatmap(cols_pivot,cmap='YlGnBu',annot=False)\n",
        "        plt.xlabel(col2.name,fontsize=12)\n",
        "        plt.ylabel(col1.name,fontsize=12)\n",
        "        plt.title(f'{col3.name} HeatMap ({col1.name} vs {col2.name})',fontsize=16)\n",
        "        plt.show()\n",
        "\n",
        "    def lag_plots(self,col1):\n",
        "        # lag plots\n",
        "        plt.figure(figsize=(6,6))\n",
        "        pd.plotting.lag_plot(col1,lag=1)\n",
        "        plt.title(f'Lag Plot: {col1.name}',fontsize=16)\n",
        "        plt.xlabel(f'{col1.name} (t)',fontsize=12)\n",
        "        plt.ylabel(f'{col1.name} (t+1)',fontsize=12)\n",
        "        plt.grid()\n",
        "        plt.show()\n",
        "\n",
        "    # outlier vizualization\n",
        "\n",
        "    def outlier_boxplots(self,col1):\n",
        "        # boxplots\n",
        "        plt.figure(figsize=(8,6))\n",
        "        sns.boxplot(x=col1,color='skyblue')\n",
        "        plt.title(f'Boxplot of {col1.name}',fontsize=16)\n",
        "        plt.xlabel(col1.name,fontsize=12)\n",
        "        plt.show()\n",
        "\n",
        "    def outlier_scatterplots(self,df,col1):\n",
        "        # scatter plots\n",
        "        plt.figure(figsize=(8,6))\n",
        "        plt.scatter(df.index,col1,color='blue',alpha=0.7)\n",
        "        plt.axhline(col1.mean()+2*col1.std(),color='red',linestyle='--',label='Upper Threshold')\n",
        "        plt.axhline(col1.mean()-2*col1.std(),color='red',linestyle='--',label='Lower Threshold')\n",
        "        plt.title('Scatter Plot with Threshold',fontsize=16)\n",
        "        plt.xlabel('Index',fontsize=12)\n",
        "        plt.ylabel(col1.name,fontsize=12)\n",
        "        plt.legend()\n",
        "        plt.show()\n",
        "\n",
        "    def outlier_zscore_viz(self,col1):\n",
        "        z_scores = (col1-col1.mean())/col1\n",
        "        plt.figure(figsize=(8,6))\n",
        "        plt.hist(z_scores,bins=10,color='lightblue',edgecolor='black')\n",
        "        plt.axvline(2,color='red',linestyle='--',label='Outlier Threshold')\n",
        "        plt.axvline(-2,color='red',linestyle='--')\n",
        "        plt.title('Z-Score Histogram',fontsize=16)\n",
        "        plt.xlabel('Z-Score',fontsize=12)\n",
        "        plt.ylabel('Frequency',fontsize=12)\n",
        "        plt.legend()\n",
        "        plt.show()\n",
        "\n",
        "    def outlier_iqrplots(self,df,col1):\n",
        "        # z-score / IQR vizualization\n",
        "        Q1 = col1.quantile(0.25)\n",
        "        Q3 = col1.quantile(0.75)\n",
        "        IQR = Q3 - Q1\n",
        "        lower_bound = Q1 - 1.5 * IQR\n",
        "        upper_bound = Q3 + 1.5 * IQR\n",
        "        plt.figure(figsize=(8,6))\n",
        "        plt.scatter(df.index,col1,color='blue',alpha=0.7)\n",
        "        plt.axhline(upper_bound,color='orange',\n",
        "        linestyle='--',label='Upper Bound')\n",
        "        plt.axhline(lower_bound, color=\"green\", linestyle=\"--\", label=\"Lower Bound\")\n",
        "        plt.title('IQR Method for Outlier Detection',fontsize=16)\n",
        "        plt.xlabel('Index',fontsize=12)\n",
        "        plt.ylabel(col1.name,fontsize=12)\n",
        "        plt.legend()\n",
        "        plt.show()\n",
        "\n",
        "    # geographic data vizualization\n",
        "    def choropleth_mps(self,df,map_geometrics,data_label,geometrics_label,plottedfeature):\n",
        "        # choropleth maps\n",
        "        geo_df = map_geometrics.merge(\n",
        "            df, left_on=geometrics_label, right_on=data_label, how=\"left\"\n",
        "        )\n",
        "        fig,ax= plt.subplots(1,1,figsize=(10,6))\n",
        "        geo_df.plot(column=plottedfeature, cmap=\"OrRd\", legend=True, ax=ax)\n",
        "        plt.title(\n",
        "            f\"Choropleth Map: {plottedfeature} by {data_label}\", fontsize=16\n",
        "        )\n",
        "        plt.show()\n",
        "\n",
        "    def bubble_mps():\n",
        "        # bubble maps\n",
        "        pass\n",
        "    def heatmaps_mps():\n",
        "        # heatmaps on maps\n",
        "        pass\n",
        "\n",
        "    # advanced data viz\n",
        "    def prll_coord_plts():\n",
        "        # parallel coordinate plots\n",
        "        pass\n",
        "    def rad_chrts():\n",
        "        # radial charts (spider/radar charts)\n",
        "        pass\n",
        "    def word_cnts():\n",
        "        # word counts\n",
        "        pass\n",
        "    def sankey_diagrams():\n",
        "        # sankey diagrams\n",
        "        pass\n",
        "    # Machine Learning data viz\n",
        "    def feat_imp_plts():\n",
        "        # feature imp plots\n",
        "        pass\n",
        "    def resid_plts():\n",
        "        # residual plots\n",
        "        pass\n",
        "    def roc_curves():\n",
        "        # ROC curve\n",
        "        pass\n",
        "    def conf_mat():\n",
        "        # Conf Matrix\n",
        "        pass"
      ]
    },
    {
      "cell_type": "code",
      "execution_count": null,
      "metadata": {},
      "outputs": [],
      "source": []
    },
    {
      "cell_type": "markdown",
      "metadata": {
        "id": "tvUcLg3ANp09"
      },
      "source": [
        "#### double checking"
      ]
    },
    {
      "cell_type": "code",
      "execution_count": null,
      "metadata": {
        "colab": {
          "base_uri": "https://localhost:8080/"
        },
        "id": "reekNK9fIFM6",
        "outputId": "71b46c0f-11a0-47d6-cf58-084499fcb104"
      },
      "outputs": [
        {
          "name": "stdout",
          "output_type": "stream",
          "text": [
            "5\n",
            "9\n",
            "10\n",
            "4\n",
            "2\n",
            "1\n"
          ]
        }
      ],
      "source": [
        "freq_200_250= 0\n",
        "Freq_250_300 = 0\n",
        "Freq_300_350 = 0\n",
        "Freq_350_400 = 0\n",
        "freq_400_450 = 0\n",
        "freq_450_500 = 0\n",
        "\n",
        "for i in df_imputed['Calories']:\n",
        "  if i >= 200 and i < 250:\n",
        "    freq_200_250 += 1\n",
        "  elif i >= 250 and i < 300:\n",
        "    Freq_250_300 += 1\n",
        "  elif i >= 300 and i < 350:\n",
        "    Freq_300_350 += 1\n",
        "  elif i >= 350 and i < 400:\n",
        "    Freq_350_400 += 1\n",
        "  elif i >= 400 and i < 450:\n",
        "    freq_400_450 += 1\n",
        "  elif i >= 450 and i < 500:\n",
        "    freq_450_500 += 1\n",
        "\n",
        "print(freq_200_250)\n",
        "print(Freq_250_300)\n",
        "print(Freq_300_350)\n",
        "print(Freq_350_400)\n",
        "print(freq_400_450)\n",
        "print(freq_450_500)"
      ]
    },
    {
      "cell_type": "markdown",
      "metadata": {
        "id": "P9ixpL-YNwCU"
      },
      "source": [
        "#### continue"
      ]
    },
    {
      "cell_type": "code",
      "execution_count": 31,
      "metadata": {},
      "outputs": [],
      "source": [
        "# custom sample for time series\n",
        "import geopandas as gpd\n",
        "\n",
        "\n",
        "dates = pd.date_range(start=\"2023-01-01\", periods=12, freq=\"M\")\n",
        "\n",
        "\n",
        "data = {\n",
        "\n",
        "\n",
        "    \"Date\": dates,\n",
        "\n",
        "\n",
        "    \"Stock_Price\": [100, 110, 120, 115, 125, 130, 128, 135, 140, 145, 150, 155],\n",
        "\n",
        "\n",
        "    \"Cumulative_Sales\": [50, 100, 150, 200, 270, 340, 420, 500, 600, 700, 820, 940],\n",
        "\n",
        "\n",
        "    \"Website_Traffic\": np.random.randint(200, 500, size=(12,)),\n",
        "\n",
        "\n",
        "}\n",
        "\n",
        "\n",
        "df = pd.DataFrame(data)\n",
        "\n",
        "\n",
        "df[\"Month\"] = df[\"Date\"].dt.strftime(\"%B\")\n",
        "\n",
        "\n",
        "df[\"Day\"] = df[\"Date\"].dt.day\n",
        "\n",
        "\n",
        "\n",
        "# data for timeseries heatmap\n",
        "\n",
        "\n",
        "traffic_data = pd.DataFrame(\n",
        "\n",
        "\n",
        "    {\n",
        "\n",
        "\n",
        "        \"Day\": np.tile(range(1, 8), 24),\n",
        "\n",
        "\n",
        "        \"Hour\": np.repeat(range(1, 25), 7),\n",
        "\n",
        "\n",
        "        \"Website_Traffic\": np.random.randint(200, 500, size=7*24),\n",
        "\n",
        "\n",
        "    }\n",
        "\n",
        "\n",
        ")\n",
        "\n",
        "\n",
        "\n",
        "# Create a sample dataframe for geographical data\n",
        "# Sample data for states\n",
        "states = [\"California\", \"Texas\", \"Florida\", \"New York\", \"Illinois\"]\n",
        "latitude = [36.7783, 31.9686, 27.9944, 40.7128, 40.6331]\n",
        "longitude = [-119.4179, -99.9018, -81.7603, -74.0060, -89.3985]\n",
        "population_density = [251.0, 108.3, 397.2, 421.0, 231.9]  # People per square mile\n",
        "sales = [500, 700, 450, 600, 300]  # Example sales data\n",
        "\n",
        "# Create a DataFrame\n",
        "data2 = {\n",
        "    \"State\": states,\n",
        "    \"Latitude\": latitude,\n",
        "    \"Longitude\": longitude,\n",
        "    \"Population_Density\": population_density,\n",
        "    \"Sales\": sales,\n",
        "}\n",
        "df2 = pd.DataFrame(data2)\n",
        "\n",
        "# 1. Choropleth Map: Population density by state\n",
        "# Load USA states geometries from GeoPandas\n",
        "\n",
        "usa_states = gpd.read_file(\"./assets/ne_110m_admin_1_states_provinces.zip\")\n",
        "usa_states = usa_states[(usa_states[\"admin\"] == \"United States of America\")]"
      ]
    },
    {
      "cell_type": "code",
      "execution_count": 44,
      "metadata": {},
      "outputs": [
        {
          "data": {
            "text/plain": [
              "Date                datetime64[ns]\n",
              "Stock_Price                  int64\n",
              "Cumulative_Sales             int64\n",
              "Website_Traffic              int32\n",
              "Month                       object\n",
              "Day                          int32\n",
              "dtype: object"
            ]
          },
          "execution_count": 44,
          "metadata": {},
          "output_type": "execute_result"
        }
      ],
      "source": [
        "\n"
      ]
    },
    {
      "cell_type": "code",
      "execution_count": 70,
      "metadata": {
        "colab": {
          "base_uri": "https://localhost:8080/",
          "height": 1000
        },
        "id": "vL0xNgyVFKTc",
        "outputId": "47f1db75-766d-422b-8897-27d069dce873"
      },
      "outputs": [
        {
          "data": {
            "image/png": "[encoded data removed]",
            "text/plain": [
              "<Figure size 1000x600 with 2 Axes>"
            ]
          },
          "metadata": {},
          "output_type": "display_data"
        }
      ],
      "source": [
        "viz = vizualize()\n",
        "viz.choropleth_mps(df2,usa_states,data_label='State',geometrics_label='name',plottedfeature='Population_Density')"
      ]
    }
  ],
  "metadata": {
    "colab": {
      "collapsed_sections": [
        "S2MIJE7cRbh9",
        "UItlGMZxRl-1",
        "zXaafIO14BgW",
        "Ws7h4Rde699P",
        "690St4wsBOb9",
        "3VxEM3OWHH21",
        "CfWFkwefHWND",
        "jkCWLTKhUozO",
        "tvUcLg3ANp09"
      ],
      "provenance": []
    },
    "kernelspec": {
      "display_name": "venv",
      "language": "python",
      "name": "python3"
    },
    "language_info": {
      "codemirror_mode": {
        "name": "ipython",
        "version": 3
      },
      "file_extension": ".py",
      "mimetype": "text/x-python",
      "name": "python",
      "nbconvert_exporter": "python",
      "pygments_lexer": "ipython3",
      "version": "3.12.6"
    }
  },
  "nbformat": 4,
  "nbformat_minor": 0
}
